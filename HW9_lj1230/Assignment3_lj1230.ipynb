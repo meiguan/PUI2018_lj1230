{
 "cells": [
  {
   "cell_type": "markdown",
   "metadata": {
    "run_control": {
     "frozen": false,
     "read_only": false
    },
    "toc": "true"
   },
   "source": [
    "# Table of Contents\n",
    " <p><div class=\"lev1 toc-item\"><a href=\"#DATA:\" data-toc-modified-id=\"DATA:-1\"><span class=\"toc-item-num\">1&nbsp;&nbsp;</span>DATA:</a></div><div class=\"lev1 toc-item\"><a href=\"#exploration\" data-toc-modified-id=\"exploration-2\"><span class=\"toc-item-num\">2&nbsp;&nbsp;</span>exploration</a></div><div class=\"lev2 toc-item\"><a href=\"#plot-mass-shooting-vs-gdp-in-absolute-numbers,-and-per-person.-Show-the-errorbars-(y-errors)\" data-toc-modified-id=\"plot-mass-shooting-vs-gdp-in-absolute-numbers,-and-per-person.-Show-the-errorbars-(y-errors)-21\"><span class=\"toc-item-num\">2.1&nbsp;&nbsp;</span>plot mass shooting vs gdp in absolute numbers, and per person. Show the errorbars (y errors)</a></div><div class=\"lev2 toc-item\"><a href=\"#plot-the-average-number-of-civilian-fire-arms-per-person\" data-toc-modified-id=\"plot-the-average-number-of-civilian-fire-arms-per-person-22\"><span class=\"toc-item-num\">2.2&nbsp;&nbsp;</span>plot the average number of civilian fire arms per person</a></div><div class=\"lev2 toc-item\"><a href=\"#plot-the-average-number-of-homicide-by-fire-arms-per-person\" data-toc-modified-id=\"plot-the-average-number-of-homicide-by-fire-arms-per-person-23\"><span class=\"toc-item-num\">2.3&nbsp;&nbsp;</span>plot the average number of homicide by fire arms per person</a></div><div class=\"lev2 toc-item\"><a href=\"#plot-the-number-of--homicides-by-fire-arm-against-the-number-of-civilian-firearms.-plot-the--US-in-a-different-color\" data-toc-modified-id=\"plot-the-number-of--homicides-by-fire-arm-against-the-number-of-civilian-firearms.-plot-the--US-in-a-different-color-24\"><span class=\"toc-item-num\">2.4&nbsp;&nbsp;</span>plot the number of  homicides by fire arm against the number of civilian firearms. plot the  US in a different color</a></div><div class=\"lev2 toc-item\"><a href=\"#plot-the-number-of--mass-shootings-against-the-number-of-civilian-firearms.-plot-the--US-in-a-different-color\" data-toc-modified-id=\"plot-the-number-of--mass-shootings-against-the-number-of-civilian-firearms.-plot-the--US-in-a-different-color-25\"><span class=\"toc-item-num\">2.5&nbsp;&nbsp;</span>plot the number of  mass shootings against the number of civilian firearms. plot the  US in a different color</a></div><div class=\"lev1 toc-item\"><a href=\"#Modeling\" data-toc-modified-id=\"Modeling-3\"><span class=\"toc-item-num\">3&nbsp;&nbsp;</span>Modeling</a></div><div class=\"lev2 toc-item\"><a href=\"#fit-a-line-to-the-Number-of-mass-shootings--per-person-as-a-function-of-Average-total-all-civilian-firearms-per-person.\" data-toc-modified-id=\"fit-a-line-to-the-Number-of-mass-shootings--per-person-as-a-function-of-Average-total-all-civilian-firearms-per-person.-31\"><span class=\"toc-item-num\">3.1&nbsp;&nbsp;</span>fit a line to the Number of mass shootings  per person as a function of Average total all civilian firearms per person.</a></div><div class=\"lev2 toc-item\"><a href=\"#Outlier-removal:\" data-toc-modified-id=\"Outlier-removal:-32\"><span class=\"toc-item-num\">3.2&nbsp;&nbsp;</span>Outlier removal:</a></div><div class=\"lev2 toc-item\"><a href=\"#Extra-credit:-calculate-the-confidence-interval-by-hand-and-also-plot-them\" data-toc-modified-id=\"Extra-credit:-calculate-the-confidence-interval-by-hand-and-also-plot-them-33\"><span class=\"toc-item-num\">3.3&nbsp;&nbsp;</span>Extra credit: calculate the confidence interval by hand and also plot them</a></div><div class=\"lev2 toc-item\"><a href=\"#Use-the-stsatsmodels.gaphics-package-to-plot-the-influence-plot.\" data-toc-modified-id=\"Use-the-stsatsmodels.gaphics-package-to-plot-the-influence-plot.-34\"><span class=\"toc-item-num\">3.4&nbsp;&nbsp;</span>Use the stsatsmodels.gaphics package to plot the influence plot.</a></div><div class=\"lev2 toc-item\"><a href=\"#Extra-credit:-calculate-from-scratch-the-stanrdardized-residuals-and-the-H-leverage-for-the-WLS-model-and-discuss-if-there-are-any-differences\" data-toc-modified-id=\"Extra-credit:-calculate-from-scratch-the-stanrdardized-residuals-and-the-H-leverage-for-the-WLS-model-and-discuss-if-there-are-any-differences-35\"><span class=\"toc-item-num\">3.5&nbsp;&nbsp;</span>Extra credit: calculate from scratch the stanrdardized residuals and the H leverage for the WLS model and discuss if there are any differences</a></div><div class=\"lev2 toc-item\"><a href=\"#Discuss-your-findings\" data-toc-modified-id=\"Discuss-your-findings-36\"><span class=\"toc-item-num\">3.6&nbsp;&nbsp;</span>Discuss your findings</a></div>"
   ]
  },
  {
   "cell_type": "markdown",
   "metadata": {
    "run_control": {
     "frozen": false,
     "read_only": false
    }
   },
   "source": [
    "**regression exercise**\n",
    "\n",
    "**written by Federica B Bianco CUSP 2017, completed by Junru Lu Nov. 2018**\n",
    "\n",
    "**for PUI lecture on models and linear regression**"
   ]
  },
  {
   "cell_type": "markdown",
   "metadata": {
    "run_control": {
     "frozen": false,
     "read_only": false
    }
   },
   "source": [
    "**investigate linear relationships between fire arm possession, homicides by fire arms, and mass shootings for different countries, considering also the country GDP**"
   ]
  },
  {
   "cell_type": "markdown",
   "metadata": {
    "run_control": {
     "frozen": false,
     "read_only": false
    }
   },
   "source": [
    "# DATA: \n",
    "\n",
    "The Guardian firearms murders and ownership data. The relevans sheet is uploaded in the github repository as a csv file. Download it from there. Note: this dataset is from 2012.\n",
    "\n",
    "**Extra credit**: download directly from google docs with a google API\n",
    "\n",
    "https://docs.google.com/spreadsheets/d/1chqUZHuY6cXYrRYkuE0uwXisGaYvr7durZHJhpLGycs/edit#gid=0\n",
    "\n",
    "Number of mass shootings: find the link here https://datawrapper.dwcdn.net/pvLFI/4/\n",
    "\n",
    "The world population by country find the download link here :\n",
    "https://data.worldbank.org/indicator/SP.POP.TOTL\n",
    "\n",
    "Remember that all read or downloads have to me reproducible.\n",
    "\n",
    "Merge all datasets. After throwing away the irrelevant data it should look something like this (I renamed the GDP and the population as gdp\" and \"pop\")\n",
    "\n",
    "Throughout, when I ask you to include errors in plots or models, use Poisson statistics: the error is the square root of the number you are considering (e.g. this country has N fire arms +/- square root of N, or this country has Np [= N/population +/- (square root of N) / population] fire arms per person)."
   ]
  },
  {
   "cell_type": "code",
   "execution_count": 1,
   "metadata": {},
   "outputs": [
    {
     "name": "stdout",
     "output_type": "stream",
     "text": [
      "Populating the interactive namespace from numpy and matplotlib\n"
     ]
    },
    {
     "name": "stderr",
     "output_type": "stream",
     "text": [
      "/usr/local/Anaconda3-5.0.0-Linux-x86_64/envs/PUI2016_Python3/lib/python3.5/site-packages/IPython/html.py:14: ShimWarning: The `IPython.html` package has been deprecated. You should import from `notebook` instead. `IPython.html.widgets` has moved to `ipywidgets`.\n",
      "  \"`IPython.html.widgets` has moved to `ipywidgets`.\", ShimWarning)\n"
     ]
    }
   ],
   "source": [
    "import os\n",
    "import pylab as pl\n",
    "import pandas as pd\n",
    "import statsmodels.api as sm\n",
    "import statsmodels.formula.api as smf\n",
    "import seaborn as sns\n",
    "try:\n",
    "    import urllib2 as urllib\n",
    "except ImportError:\n",
    "    import urllib.request as urllib\n",
    "%pylab inline"
   ]
  },
  {
   "cell_type": "code",
   "execution_count": 2,
   "metadata": {},
   "outputs": [
    {
     "name": "stdout",
     "output_type": "stream",
     "text": [
      "/nfshome/lj1230/PUIdata\n"
     ]
    }
   ],
   "source": [
    "# First check if PUIdata folder exists\n",
    "if os.getenv(\"PUIDATA\") is None:\n",
    "    os.environ[\"PUIDATA\"] = \"%s/PUIdata\"%os.getenv(\"HOME\")\n",
    "else:\n",
    "    pass\n",
    "print(os.getenv(\"PUIDATA\"))"
   ]
  },
  {
   "cell_type": "code",
   "execution_count": 3,
   "metadata": {},
   "outputs": [
    {
     "name": "stdout",
     "output_type": "stream",
     "text": [
      "--2018-11-11 12:07:43--  https://raw.githubusercontent.com/fedhere/PUI2018_fb55/master/HW9_fb55/World%20firearms%20murders%20and%20ownership%20-%20Sheet%201.csv\n",
      "Resolving raw.githubusercontent.com (raw.githubusercontent.com)... 151.101.200.133\n",
      "Connecting to raw.githubusercontent.com (raw.githubusercontent.com)|151.101.200.133|:443... connected.\n",
      "HTTP request sent, awaiting response... 200 OK\n",
      "Length: 7852 (7.7K) [text/plain]\n",
      "Saving to: ‘Firearms.csv’\n",
      "\n",
      "Firearms.csv        100%[===================>]   7.67K  --.-KB/s    in 0s      \n",
      "\n",
      "2018-11-11 12:07:43 (142 MB/s) - ‘Firearms.csv’ saved [7852/7852]\n",
      "\n",
      "Archive:  WorldPopulation.zip\n",
      "  inflating: /nfshome/lj1230/PUIdata/WorldPopulation/Metadata_Indicator_API_SP.POP.TOTL_DS2_en_csv_v2_10203548.csv  \n",
      "  inflating: /nfshome/lj1230/PUIdata/WorldPopulation/API_SP.POP.TOTL_DS2_en_csv_v2_10203548.csv  \n",
      "  inflating: /nfshome/lj1230/PUIdata/WorldPopulation/Metadata_Country_API_SP.POP.TOTL_DS2_en_csv_v2_10203548.csv  \n",
      "Archive:  GDP.zip\n",
      "  inflating: /nfshome/lj1230/PUIdata/GDP/Metadata_Indicator_API_NY.GDP.MKTP.CD_DS2_en_csv_v2_10203569.csv  \n",
      "  inflating: /nfshome/lj1230/PUIdata/GDP/API_NY.GDP.MKTP.CD_DS2_en_csv_v2_10203569.csv  \n",
      "  inflating: /nfshome/lj1230/PUIdata/GDP/Metadata_Country_API_NY.GDP.MKTP.CD_DS2_en_csv_v2_10203569.csv  \n"
     ]
    }
   ],
   "source": [
    "response = urllib.urlretrieve('data:application/octet-stream;charset=utf-8,Country%2CGuns%20per%20100%20inhabitants%2CNumber%20of%20mass%20shootings%20(1983-2013)%0AAustralia%2C15%2C4%0AAustria%2C30.4%2C1%0ABelgium%2C17.2%2C2%0ACanada%2C30.8%2C4%0ADenmark%2C12%2C0%0AFinland%2C45.3%2C2%0AFrance%2C31.2%2C6%0AGermany%2C30.3%2C7%0AGreece%2C22.5%2C0%0AHolland%2C3.9%2C2%0AHungary%2C5.5%2C0%0AIceland%2C30.3%2C0%0AIreland%2C8.6%2C0%0AItaly%2C11.9%2C0%0AJapan%2C0.6%2C0%0ALuxembourg%2C15.3%2C0%0ANew%20Zealand%2C22.6%2C3%0ANorway%2C31.3%2C1%0APoland%2C1.3%2C0%0APortugal%2C8.5%2C1%0ASpain%2C10.4%2C1%0ASweden%2C31.6%2C2%0ASwitzerland%2C45.7%2C2%0AUnited%20Kingdom%2C6.2%2C3%0AUnited%20States%2C88.8%2C78', \n",
    "                              'MassShooting.csv')\n",
    "response = urllib.urlretrieve('http://api.worldbank.org/v2/en/indicator/SP.POP.TOTL?downloadformat=csv', \n",
    "                              'WorldPopulation.zip')\n",
    "response = urllib.urlretrieve('http://api.worldbank.org/v2/en/indicator/NY.GDP.MKTP.CD?downloadformat=csv', \n",
    "                              'GDP.zip')\n",
    "!wget https://raw.githubusercontent.com/fedhere/PUI2018_fb55/master/HW9_fb55/World%20firearms%20murders%20and%20ownership%20-%20Sheet%201.csv -O Firearms.csv\n",
    "!mv Firearms.csv MassShooting.csv $PUIDATA\n",
    "!unzip WorldPopulation.zip -d $PUIDATA/WorldPopulation\n",
    "!unzip GDP.zip -d $PUIDATA/GDP\n",
    "!rm -f WorldPopulation.zip GDP.zip"
   ]
  },
  {
   "cell_type": "code",
   "execution_count": 4,
   "metadata": {},
   "outputs": [
    {
     "data": {
      "text/html": [
       "<div>\n",
       "<table border=\"1\" class=\"dataframe\">\n",
       "  <thead>\n",
       "    <tr style=\"text-align: right;\">\n",
       "      <th></th>\n",
       "      <th>Country</th>\n",
       "      <th>Guns per 100 inhabitants</th>\n",
       "      <th>Number of mass shootings (1983-2013)</th>\n",
       "    </tr>\n",
       "  </thead>\n",
       "  <tbody>\n",
       "    <tr>\n",
       "      <th>0</th>\n",
       "      <td>Australia</td>\n",
       "      <td>15.0</td>\n",
       "      <td>4</td>\n",
       "    </tr>\n",
       "    <tr>\n",
       "      <th>1</th>\n",
       "      <td>Austria</td>\n",
       "      <td>30.4</td>\n",
       "      <td>1</td>\n",
       "    </tr>\n",
       "    <tr>\n",
       "      <th>2</th>\n",
       "      <td>Belgium</td>\n",
       "      <td>17.2</td>\n",
       "      <td>2</td>\n",
       "    </tr>\n",
       "    <tr>\n",
       "      <th>3</th>\n",
       "      <td>Canada</td>\n",
       "      <td>30.8</td>\n",
       "      <td>4</td>\n",
       "    </tr>\n",
       "    <tr>\n",
       "      <th>4</th>\n",
       "      <td>Denmark</td>\n",
       "      <td>12.0</td>\n",
       "      <td>0</td>\n",
       "    </tr>\n",
       "  </tbody>\n",
       "</table>\n",
       "</div>"
      ],
      "text/plain": [
       "     Country  Guns per 100 inhabitants  Number of mass shootings (1983-2013)\n",
       "0  Australia                      15.0                                     4\n",
       "1    Austria                      30.4                                     1\n",
       "2    Belgium                      17.2                                     2\n",
       "3     Canada                      30.8                                     4\n",
       "4    Denmark                      12.0                                     0"
      ]
     },
     "execution_count": 4,
     "metadata": {},
     "output_type": "execute_result"
    }
   ],
   "source": [
    "massshooting = pd.read_csv(os.getenv(\"PUIDATA\") + \"/MassShooting.csv\")\n",
    "massshooting.dropna(inplace=True)\n",
    "massshooting.head()"
   ]
  },
  {
   "cell_type": "code",
   "execution_count": 5,
   "metadata": {},
   "outputs": [
    {
     "data": {
      "text/html": [
       "<div>\n",
       "<table border=\"1\" class=\"dataframe\">\n",
       "  <thead>\n",
       "    <tr style=\"text-align: right;\">\n",
       "      <th></th>\n",
       "      <th>Country Name</th>\n",
       "      <th>pop</th>\n",
       "    </tr>\n",
       "  </thead>\n",
       "  <tbody>\n",
       "    <tr>\n",
       "      <th>0</th>\n",
       "      <td>Aruba</td>\n",
       "      <td>102577.0</td>\n",
       "    </tr>\n",
       "    <tr>\n",
       "      <th>1</th>\n",
       "      <td>Afghanistan</td>\n",
       "      <td>30696958.0</td>\n",
       "    </tr>\n",
       "    <tr>\n",
       "      <th>2</th>\n",
       "      <td>Angola</td>\n",
       "      <td>25096150.0</td>\n",
       "    </tr>\n",
       "    <tr>\n",
       "      <th>3</th>\n",
       "      <td>Albania</td>\n",
       "      <td>2900401.0</td>\n",
       "    </tr>\n",
       "    <tr>\n",
       "      <th>4</th>\n",
       "      <td>Andorra</td>\n",
       "      <td>82431.0</td>\n",
       "    </tr>\n",
       "  </tbody>\n",
       "</table>\n",
       "</div>"
      ],
      "text/plain": [
       "  Country Name         pop\n",
       "0        Aruba    102577.0\n",
       "1  Afghanistan  30696958.0\n",
       "2       Angola  25096150.0\n",
       "3      Albania   2900401.0\n",
       "4      Andorra     82431.0"
      ]
     },
     "execution_count": 5,
     "metadata": {},
     "output_type": "execute_result"
    }
   ],
   "source": [
    "worldpopulation = pd.read_csv(os.getenv(\"PUIDATA\") + \n",
    "                              \"/WorldPopulation/API_SP.POP.TOTL_DS2_en_csv_v2_10203548.csv\", skiprows=1, header=1)\n",
    "worldpopulation = worldpopulation[['Country Name', '2012']].dropna()\n",
    "worldpopulation.rename(columns={'2012': 'pop'}, inplace=True)\n",
    "worldpopulation.head()"
   ]
  },
  {
   "cell_type": "code",
   "execution_count": 6,
   "metadata": {},
   "outputs": [
    {
     "data": {
      "text/html": [
       "<div>\n",
       "<table border=\"1\" class=\"dataframe\">\n",
       "  <thead>\n",
       "    <tr style=\"text-align: right;\">\n",
       "      <th></th>\n",
       "      <th>Country Name</th>\n",
       "      <th>gdp</th>\n",
       "    </tr>\n",
       "  </thead>\n",
       "  <tbody>\n",
       "    <tr>\n",
       "      <th>1</th>\n",
       "      <td>Afghanistan</td>\n",
       "      <td>2.053654e+10</td>\n",
       "    </tr>\n",
       "    <tr>\n",
       "      <th>2</th>\n",
       "      <td>Angola</td>\n",
       "      <td>1.139232e+11</td>\n",
       "    </tr>\n",
       "    <tr>\n",
       "      <th>3</th>\n",
       "      <td>Albania</td>\n",
       "      <td>1.231978e+10</td>\n",
       "    </tr>\n",
       "    <tr>\n",
       "      <th>4</th>\n",
       "      <td>Andorra</td>\n",
       "      <td>3.164615e+09</td>\n",
       "    </tr>\n",
       "    <tr>\n",
       "      <th>5</th>\n",
       "      <td>Arab World</td>\n",
       "      <td>2.786139e+12</td>\n",
       "    </tr>\n",
       "  </tbody>\n",
       "</table>\n",
       "</div>"
      ],
      "text/plain": [
       "  Country Name           gdp\n",
       "1  Afghanistan  2.053654e+10\n",
       "2       Angola  1.139232e+11\n",
       "3      Albania  1.231978e+10\n",
       "4      Andorra  3.164615e+09\n",
       "5   Arab World  2.786139e+12"
      ]
     },
     "execution_count": 6,
     "metadata": {},
     "output_type": "execute_result"
    }
   ],
   "source": [
    "gdp = pd.read_csv(os.getenv(\"PUIDATA\") + \n",
    "                  \"/GDP/API_NY.GDP.MKTP.CD_DS2_en_csv_v2_10203569.csv\", skiprows=1, header=1)\n",
    "gdp = gdp[['Country Name', '2012']].dropna()\n",
    "gdp.rename(columns={'2012': 'gdp'}, inplace=True)\n",
    "gdp.head()"
   ]
  },
  {
   "cell_type": "code",
   "execution_count": 7,
   "metadata": {},
   "outputs": [
    {
     "data": {
      "text/html": [
       "<div>\n",
       "<table border=\"1\" class=\"dataframe\">\n",
       "  <thead>\n",
       "    <tr style=\"text-align: right;\">\n",
       "      <th></th>\n",
       "      <th>Country Name</th>\n",
       "      <th>pop</th>\n",
       "      <th>gdp</th>\n",
       "    </tr>\n",
       "  </thead>\n",
       "  <tbody>\n",
       "    <tr>\n",
       "      <th>0</th>\n",
       "      <td>Afghanistan</td>\n",
       "      <td>30696958.0</td>\n",
       "      <td>2.053654e+10</td>\n",
       "    </tr>\n",
       "    <tr>\n",
       "      <th>1</th>\n",
       "      <td>Angola</td>\n",
       "      <td>25096150.0</td>\n",
       "      <td>1.139232e+11</td>\n",
       "    </tr>\n",
       "    <tr>\n",
       "      <th>2</th>\n",
       "      <td>Albania</td>\n",
       "      <td>2900401.0</td>\n",
       "      <td>1.231978e+10</td>\n",
       "    </tr>\n",
       "    <tr>\n",
       "      <th>3</th>\n",
       "      <td>Andorra</td>\n",
       "      <td>82431.0</td>\n",
       "      <td>3.164615e+09</td>\n",
       "    </tr>\n",
       "    <tr>\n",
       "      <th>4</th>\n",
       "      <td>Arab World</td>\n",
       "      <td>373306993.0</td>\n",
       "      <td>2.786139e+12</td>\n",
       "    </tr>\n",
       "  </tbody>\n",
       "</table>\n",
       "</div>"
      ],
      "text/plain": [
       "  Country Name          pop           gdp\n",
       "0  Afghanistan   30696958.0  2.053654e+10\n",
       "1       Angola   25096150.0  1.139232e+11\n",
       "2      Albania    2900401.0  1.231978e+10\n",
       "3      Andorra      82431.0  3.164615e+09\n",
       "4   Arab World  373306993.0  2.786139e+12"
      ]
     },
     "execution_count": 7,
     "metadata": {},
     "output_type": "execute_result"
    }
   ],
   "source": [
    "worldeconomics = worldpopulation.merge(gdp)\n",
    "worldeconomics.head()"
   ]
  },
  {
   "cell_type": "code",
   "execution_count": 8,
   "metadata": {},
   "outputs": [
    {
     "data": {
      "text/html": [
       "<div>\n",
       "<table border=\"1\" class=\"dataframe\">\n",
       "  <thead>\n",
       "    <tr style=\"text-align: right;\">\n",
       "      <th></th>\n",
       "      <th>Country Name</th>\n",
       "      <th>Average total all civilian firearms</th>\n",
       "      <th>Number of homicides by firearm</th>\n",
       "    </tr>\n",
       "  </thead>\n",
       "  <tbody>\n",
       "    <tr>\n",
       "      <th>0</th>\n",
       "      <td>Albania</td>\n",
       "      <td>270000.0</td>\n",
       "      <td>56.0</td>\n",
       "    </tr>\n",
       "    <tr>\n",
       "      <th>1</th>\n",
       "      <td>Algeria</td>\n",
       "      <td>1900000.0</td>\n",
       "      <td>20.0</td>\n",
       "    </tr>\n",
       "    <tr>\n",
       "      <th>4</th>\n",
       "      <td>Argentina</td>\n",
       "      <td>3950000.0</td>\n",
       "      <td>1198.0</td>\n",
       "    </tr>\n",
       "    <tr>\n",
       "      <th>5</th>\n",
       "      <td>Armenia</td>\n",
       "      <td>380000.0</td>\n",
       "      <td>9.0</td>\n",
       "    </tr>\n",
       "    <tr>\n",
       "      <th>6</th>\n",
       "      <td>Australia</td>\n",
       "      <td>3050000.0</td>\n",
       "      <td>30.0</td>\n",
       "    </tr>\n",
       "  </tbody>\n",
       "</table>\n",
       "</div>"
      ],
      "text/plain": [
       "  Country Name  Average total all civilian firearms  \\\n",
       "0      Albania                             270000.0   \n",
       "1      Algeria                            1900000.0   \n",
       "4    Argentina                            3950000.0   \n",
       "5      Armenia                             380000.0   \n",
       "6    Australia                            3050000.0   \n",
       "\n",
       "   Number of homicides by firearm  \n",
       "0                            56.0  \n",
       "1                            20.0  \n",
       "4                          1198.0  \n",
       "5                             9.0  \n",
       "6                            30.0  "
      ]
     },
     "execution_count": 8,
     "metadata": {},
     "output_type": "execute_result"
    }
   ],
   "source": [
    "firearms = pd.read_csv(os.getenv(\"PUIDATA\") + \"/Firearms.csv\")\n",
    "firearms = firearms[['Country/Territory', 'Average total all civilian firearms', 'Number of homicides by firearm']]\n",
    "firearms.dropna(inplace=True)\n",
    "firearms.rename(columns={\"Country/Territory\": \"Country Name\"}, inplace=True)\n",
    "firearms.head()"
   ]
  },
  {
   "cell_type": "code",
   "execution_count": 9,
   "metadata": {},
   "outputs": [
    {
     "data": {
      "text/html": [
       "<div>\n",
       "<table border=\"1\" class=\"dataframe\">\n",
       "  <thead>\n",
       "    <tr style=\"text-align: right;\">\n",
       "      <th></th>\n",
       "      <th>Country Name</th>\n",
       "      <th>Average total all civilian firearms</th>\n",
       "      <th>Number of homicides by firearm</th>\n",
       "      <th>pop</th>\n",
       "      <th>gdp</th>\n",
       "      <th>Country</th>\n",
       "      <th>Guns per 100 inhabitants</th>\n",
       "      <th>Number of mass shootings</th>\n",
       "    </tr>\n",
       "  </thead>\n",
       "  <tbody>\n",
       "    <tr>\n",
       "      <th>0</th>\n",
       "      <td>Australia</td>\n",
       "      <td>3050000.0</td>\n",
       "      <td>30.0</td>\n",
       "      <td>22742475.0</td>\n",
       "      <td>1.543411e+12</td>\n",
       "      <td>Australia</td>\n",
       "      <td>15.0</td>\n",
       "      <td>4</td>\n",
       "    </tr>\n",
       "    <tr>\n",
       "      <th>1</th>\n",
       "      <td>Austria</td>\n",
       "      <td>2500000.0</td>\n",
       "      <td>18.0</td>\n",
       "      <td>8429991.0</td>\n",
       "      <td>4.094252e+11</td>\n",
       "      <td>Austria</td>\n",
       "      <td>30.4</td>\n",
       "      <td>1</td>\n",
       "    </tr>\n",
       "    <tr>\n",
       "      <th>2</th>\n",
       "      <td>Belgium</td>\n",
       "      <td>1800000.0</td>\n",
       "      <td>70.0</td>\n",
       "      <td>11128246.0</td>\n",
       "      <td>4.978842e+11</td>\n",
       "      <td>Belgium</td>\n",
       "      <td>17.2</td>\n",
       "      <td>2</td>\n",
       "    </tr>\n",
       "    <tr>\n",
       "      <th>3</th>\n",
       "      <td>Canada</td>\n",
       "      <td>9950000.0</td>\n",
       "      <td>173.0</td>\n",
       "      <td>34750545.0</td>\n",
       "      <td>1.824289e+12</td>\n",
       "      <td>Canada</td>\n",
       "      <td>30.8</td>\n",
       "      <td>4</td>\n",
       "    </tr>\n",
       "    <tr>\n",
       "      <th>4</th>\n",
       "      <td>Denmark</td>\n",
       "      <td>650000.0</td>\n",
       "      <td>15.0</td>\n",
       "      <td>5591572.0</td>\n",
       "      <td>3.271489e+11</td>\n",
       "      <td>Denmark</td>\n",
       "      <td>12.0</td>\n",
       "      <td>0</td>\n",
       "    </tr>\n",
       "  </tbody>\n",
       "</table>\n",
       "</div>"
      ],
      "text/plain": [
       "  Country Name  Average total all civilian firearms  \\\n",
       "0    Australia                            3050000.0   \n",
       "1      Austria                            2500000.0   \n",
       "2      Belgium                            1800000.0   \n",
       "3       Canada                            9950000.0   \n",
       "4      Denmark                             650000.0   \n",
       "\n",
       "   Number of homicides by firearm         pop           gdp    Country  \\\n",
       "0                            30.0  22742475.0  1.543411e+12  Australia   \n",
       "1                            18.0   8429991.0  4.094252e+11    Austria   \n",
       "2                            70.0  11128246.0  4.978842e+11    Belgium   \n",
       "3                           173.0  34750545.0  1.824289e+12     Canada   \n",
       "4                            15.0   5591572.0  3.271489e+11    Denmark   \n",
       "\n",
       "   Guns per 100 inhabitants  Number of mass shootings  \n",
       "0                      15.0                         4  \n",
       "1                      30.4                         1  \n",
       "2                      17.2                         2  \n",
       "3                      30.8                         4  \n",
       "4                      12.0                         0  "
      ]
     },
     "execution_count": 9,
     "metadata": {},
     "output_type": "execute_result"
    }
   ],
   "source": [
    "df_ = firearms.merge(worldeconomics).merge(massshooting, right_on=\"Country\", left_on=\"Country Name\")\n",
    "df_.rename(columns={\"Number of mass shootings (1983-2013)\": \"Number of mass shootings\"}, inplace=True)\n",
    "df_.head()"
   ]
  },
  {
   "cell_type": "markdown",
   "metadata": {
    "run_control": {
     "frozen": false,
     "read_only": false
    }
   },
   "source": [
    "# exploration\n",
    "\n",
    "## plot mass shooting vs gdp in absolute numbers, and per person. Show the errorbars (y errors)\n",
    "\n",
    "Use Poisson statistics for the errorbars on the number of mass shootings (optional: include errors on the population, also as Poisson statistics)\n",
    "\n",
    "Are there any points that look like they may be outilers?\n"
   ]
  },
  {
   "cell_type": "code",
   "execution_count": 10,
   "metadata": {
    "ExecuteTime": {
     "end_time": "2017-10-12T11:24:38.210994",
     "start_time": "2017-10-12T11:24:37.927232"
    },
    "run_control": {
     "frozen": false,
     "read_only": false
    }
   },
   "outputs": [
    {
     "name": "stderr",
     "output_type": "stream",
     "text": [
      "/usr/local/Anaconda3-5.0.0-Linux-x86_64/envs/PUI2016_Python3/lib/python3.5/site-packages/matplotlib/font_manager.py:1316: UserWarning: findfont: Font family ['sans-serif'] not found. Falling back to DejaVu Sans\n",
      "  (prop.get_family(), self.defaultFamily[fontext]))\n"
     ]
    },
    {
     "data": {
      "image/png": "[encoded data removed]",
      "text/plain": [
       "<matplotlib.figure.Figure at 0x7fdabb25e9e8>"
      ]
     },
     "metadata": {},
     "output_type": "display_data"
    },
    {
     "name": "stdout",
     "output_type": "stream",
     "text": [
      "Number of mass shooting vs GDP, errors represent Poisson statistics.\n",
      "The outlier to the top right of the plot is the USA, which has the highest GDP and the highest number of mass shootings. \n"
     ]
    }
   ],
   "source": [
    "fig = pl.figure(figsize=(10,5)) \n",
    "ax = fig.add_subplot(111)\n",
    "\n",
    "scatter = ax.scatter(df_.gdp / 1e9, df_['Number of mass shootings'])\n",
    "ax.errorbar(df_.gdp / 1e9, df_['Number of mass shootings'], \n",
    "            yerr = np.sqrt(df_['Number of mass shootings'] * 1.0), fmt = '.')\n",
    "ax.set_xlabel(\"GDP (in billions)\")\n",
    "ax.set_ylabel(\"Number of mass shooting\")\n",
    "ax.set_ylim()\n",
    "pl.show()\n",
    "print (\"Number of mass shooting vs GDP, \" + \n",
    "       \"errors represent Poisson statistics.\\n\" + \n",
    "       \"The outlier to the top right of the plot is the USA, \" + \n",
    "       \"which has the highest GDP and the highest number of mass shootings. \")\n"
   ]
  },
  {
   "cell_type": "code",
   "execution_count": 11,
   "metadata": {},
   "outputs": [
    {
     "name": "stderr",
     "output_type": "stream",
     "text": [
      "/usr/local/Anaconda3-5.0.0-Linux-x86_64/envs/PUI2016_Python3/lib/python3.5/site-packages/matplotlib/font_manager.py:1316: UserWarning: findfont: Font family ['sans-serif'] not found. Falling back to DejaVu Sans\n",
      "  (prop.get_family(), self.defaultFamily[fontext]))\n"
     ]
    },
    {
     "data": {
      "image/png": "[encoded data removed]",
      "text/plain": [
       "<matplotlib.figure.Figure at 0x7fdabb26c6d8>"
      ]
     },
     "metadata": {},
     "output_type": "display_data"
    },
    {
     "name": "stdout",
     "output_type": "stream",
     "text": [
      "Number of mass shooting vs GDP per person, errors represent Poisson statistics.\n",
      "The outlier to the top center of the plot is the USA, which has the highest number of mass shootings. \n"
     ]
    }
   ],
   "source": [
    "df_['gdppp'] = df_[\"gdp\"] / df_['pop']\n",
    "\n",
    "fig = pl.figure(figsize=(10,5)) \n",
    "ax = fig.add_subplot(111)\n",
    "\n",
    "scatter = ax.scatter(df_.gdppp, df_['Number of mass shootings'])\n",
    "ax.errorbar(df_.gdppp, df_['Number of mass shootings'], \n",
    "            yerr = np.sqrt(df_['Number of mass shootings'] * 1.0), fmt = '.')\n",
    "ax.set_xlabel(\"GDP per person\")\n",
    "ax.set_ylabel(\"Number of mass shooting\")\n",
    "ax.set_ylim()\n",
    "pl.show()\n",
    "print (\"Number of mass shooting vs GDP per person, \" + \n",
    "       \"errors represent Poisson statistics.\\n\" + \n",
    "       \"The outlier to the top center of the plot is the USA, \" + \n",
    "       \"which has the highest number of mass shootings. \")\n"
   ]
  },
  {
   "cell_type": "code",
   "execution_count": 12,
   "metadata": {},
   "outputs": [
    {
     "name": "stderr",
     "output_type": "stream",
     "text": [
      "/usr/local/Anaconda3-5.0.0-Linux-x86_64/envs/PUI2016_Python3/lib/python3.5/site-packages/matplotlib/font_manager.py:1316: UserWarning: findfont: Font family ['sans-serif'] not found. Falling back to DejaVu Sans\n",
      "  (prop.get_family(), self.defaultFamily[fontext]))\n"
     ]
    },
    {
     "data": {
      "image/png": "[encoded data removed]",
      "text/plain": [
       "<matplotlib.figure.Figure at 0x7fdab974e1d0>"
      ]
     },
     "metadata": {},
     "output_type": "display_data"
    },
    {
     "name": "stdout",
     "output_type": "stream",
     "text": [
      "Number of mass shooting per person vs GDP, errors represent Poisson statistics.\n",
      "The outlier to the right of the plot is the USA, which has the highest GDP. The outlier to the center of the plot is Japan, which has a relative high GDP. \n"
     ]
    }
   ],
   "source": [
    "df_['shootingspp'] = df_[\"Number of mass shootings\"] / df_['pop'] * 1e3\n",
    "\n",
    "fig = pl.figure(figsize=(10,5)) \n",
    "ax = fig.add_subplot(111)\n",
    "\n",
    "scatter = ax.scatter(df_.gdp / 1e9, df_['shootingspp'])\n",
    "ax.errorbar(df_.gdp / 1e9, df_['shootingspp'], \n",
    "            yerr = np.sqrt(df_['shootingspp'] * 1.0), fmt = '.')\n",
    "ax.set_xlabel(\"GDP (in billions)\")\n",
    "ax.set_ylabel(\"Number of mass shooting per person\")\n",
    "ax.set_ylim()\n",
    "pl.show()\n",
    "print (\"Number of mass shooting per person vs GDP, \" + \n",
    "       \"errors represent Poisson statistics.\\n\" + \n",
    "       \"The outlier to the right of the plot is the USA, \" + \n",
    "       \"which has the highest GDP. \" + \n",
    "       \"The outlier to the center of the plot is Japan, \" + \n",
    "       \"which has a relative high GDP. \")\n"
   ]
  },
  {
   "cell_type": "markdown",
   "metadata": {
    "run_control": {
     "frozen": false,
     "read_only": false
    }
   },
   "source": [
    "## plot the average number of civilian fire arms per person\n",
    "first without errors, then with errors. are there  points that look like outliers?"
   ]
  },
  {
   "cell_type": "code",
   "execution_count": 13,
   "metadata": {
    "ExecuteTime": {
     "end_time": "2017-10-12T07:17:52.778486",
     "start_time": "2017-10-12T07:17:52.768299"
    },
    "run_control": {
     "frozen": false,
     "read_only": false
    }
   },
   "outputs": [
    {
     "name": "stderr",
     "output_type": "stream",
     "text": [
      "/usr/local/Anaconda3-5.0.0-Linux-x86_64/envs/PUI2016_Python3/lib/python3.5/site-packages/matplotlib/font_manager.py:1316: UserWarning: findfont: Font family ['sans-serif'] not found. Falling back to DejaVu Sans\n",
      "  (prop.get_family(), self.defaultFamily[fontext]))\n"
     ]
    },
    {
     "data": {
      "image/png": "[encoded data removed]",
      "text/plain": [
       "<matplotlib.figure.Figure at 0x7fdabb34b2e8>"
      ]
     },
     "metadata": {},
     "output_type": "display_data"
    },
    {
     "name": "stdout",
     "output_type": "stream",
     "text": [
      "Average total all civilian firearms per person vs GDP.\n",
      "The outlier to the top right of the plot is the USA, which has the highest GDP and the highest number of average total all civilian firearms per person. The outlier to the bottom center of the plot is Japan, which has a relative high GDP and the lowest number of average total all civilian firearms per person. \n"
     ]
    }
   ],
   "source": [
    "df_['firearmspp'] = df_[\"Average total all civilian firearms\"] / df_['pop']\n",
    "\n",
    "fig = pl.figure(figsize=(10,5)) \n",
    "ax = fig.add_subplot(111)\n",
    "\n",
    "scatter = ax.scatter(df_.gdp / 1e9, df_['firearmspp'])\n",
    "ax.scatter(df_.gdp / 1e9, df_['firearmspp'])\n",
    "ax.set_xlabel(\"GDP (in billions)\")\n",
    "ax.set_ylabel(\"Average total all civilian firearms per person\")\n",
    "ax.set_ylim()\n",
    "pl.show()\n",
    "print (\"Average total all civilian firearms per person vs GDP.\\n\" + \n",
    "       \"The outlier to the top right of the plot is the USA, \" + \n",
    "       \"which has the highest GDP and the highest number of average total all civilian firearms per person. \" + \n",
    "       \"The outlier to the bottom center of the plot is Japan, \" + \n",
    "       \"which has a relative high GDP and the lowest number of average total all civilian firearms per person. \")\n"
   ]
  },
  {
   "cell_type": "code",
   "execution_count": 14,
   "metadata": {},
   "outputs": [
    {
     "name": "stderr",
     "output_type": "stream",
     "text": [
      "/usr/local/Anaconda3-5.0.0-Linux-x86_64/envs/PUI2016_Python3/lib/python3.5/site-packages/matplotlib/font_manager.py:1316: UserWarning: findfont: Font family ['sans-serif'] not found. Falling back to DejaVu Sans\n",
      "  (prop.get_family(), self.defaultFamily[fontext]))\n"
     ]
    },
    {
     "data": {
      "image/png": "[encoded data removed]",
      "text/plain": [
       "<matplotlib.figure.Figure at 0x7fdab95d8160>"
      ]
     },
     "metadata": {},
     "output_type": "display_data"
    },
    {
     "name": "stdout",
     "output_type": "stream",
     "text": [
      "Average total all civilian firearms per person vs GDP, errors represent Poisson statistics.\n",
      "The outlier to the right of the plot is the USA, which has the highest GDP and the highest number of average total all civilian firearms per person. The outlier to the bottom center of the plot is Japan, which has a relative high GDP and the lowest number of average total all civilian firearms per person. \n"
     ]
    }
   ],
   "source": [
    "fig = pl.figure(figsize=(10,5)) \n",
    "ax = fig.add_subplot(111)\n",
    "\n",
    "scatter = ax.scatter(df_.gdp / 1e9, df_['firearmspp'])\n",
    "ax.errorbar(df_.gdp / 1e9, df_['firearmspp'], \n",
    "            yerr = np.sqrt(df_['firearmspp'] * 1.0), fmt = '.')\n",
    "ax.set_xlabel(\"GDP (in billions)\")\n",
    "ax.set_ylabel(\"Average total all civilian firearms per person\")\n",
    "ax.set_ylim()\n",
    "pl.show()\n",
    "print (\"Average total all civilian firearms per person vs GDP, \" + \n",
    "       \"errors represent Poisson statistics.\\n\" + \n",
    "       \"The outlier to the right of the plot is the USA, \" + \n",
    "       \"which has the highest GDP and the highest number of average total all civilian firearms per person. \" + \n",
    "       \"The outlier to the bottom center of the plot is Japan, \" + \n",
    "       \"which has a relative high GDP and the lowest number of average total all civilian firearms per person. \")\n"
   ]
  },
  {
   "cell_type": "markdown",
   "metadata": {
    "run_control": {
     "frozen": false,
     "read_only": false
    }
   },
   "source": [
    "## plot the average number of homicide by fire arms per person\n",
    "first as a histogram\n",
    "\n",
    "then against the country GDP, with statistical errors. are there  points that look like outliers?"
   ]
  },
  {
   "cell_type": "code",
   "execution_count": 15,
   "metadata": {
    "ExecuteTime": {
     "end_time": "2017-10-12T07:53:17.910541",
     "start_time": "2017-10-12T07:53:17.506477"
    },
    "run_control": {
     "frozen": false,
     "read_only": false
    }
   },
   "outputs": [
    {
     "data": {
      "text/plain": [
       "Text(0.5,0,'homicides by firearm per 1000 people')"
      ]
     },
     "execution_count": 15,
     "metadata": {},
     "output_type": "execute_result"
    },
    {
     "name": "stderr",
     "output_type": "stream",
     "text": [
      "/usr/local/Anaconda3-5.0.0-Linux-x86_64/envs/PUI2016_Python3/lib/python3.5/site-packages/matplotlib/font_manager.py:1316: UserWarning: findfont: Font family ['sans-serif'] not found. Falling back to DejaVu Sans\n",
      "  (prop.get_family(), self.defaultFamily[fontext]))\n"
     ]
    },
    {
     "data": {
      "image/png": "[encoded data removed]",
      "text/plain": [
       "<matplotlib.figure.Figure at 0x7fdabb264630>"
      ]
     },
     "metadata": {},
     "output_type": "display_data"
    }
   ],
   "source": [
    "fig = plt.figure(figsize=(10, 5))\n",
    "ax = fig.subplots()\n",
    "ax.hist(df_['Number of homicides by firearm'] / df_['pop'] * 1000)\n",
    "ax.set_xlabel('homicides by firearm per 1000 people')"
   ]
  },
  {
   "cell_type": "code",
   "execution_count": 16,
   "metadata": {},
   "outputs": [
    {
     "name": "stderr",
     "output_type": "stream",
     "text": [
      "/usr/local/Anaconda3-5.0.0-Linux-x86_64/envs/PUI2016_Python3/lib/python3.5/site-packages/matplotlib/font_manager.py:1316: UserWarning: findfont: Font family ['sans-serif'] not found. Falling back to DejaVu Sans\n",
      "  (prop.get_family(), self.defaultFamily[fontext]))\n"
     ]
    },
    {
     "data": {
      "image/png": "[encoded data removed]",
      "text/plain": [
       "<matplotlib.figure.Figure at 0x7fdabb28a5f8>"
      ]
     },
     "metadata": {},
     "output_type": "display_data"
    },
    {
     "name": "stdout",
     "output_type": "stream",
     "text": [
      "Number of homicides by firearm per person vs GDP, errors represent Poisson statistics.\n",
      "The outlier to the right of the plot is the USA, which has the highest GDP. The outlier to the center of the plot is Japan, which has a relative high GDP. \n"
     ]
    }
   ],
   "source": [
    "df_['homicidespp'] = df_['Number of homicides by firearm'] / df_['pop'] * 1000\n",
    "\n",
    "fig = pl.figure(figsize=(10,5)) \n",
    "ax = fig.add_subplot(111)\n",
    "\n",
    "scatter = ax.scatter(df_.gdp / 1e9, df_['homicidespp'])\n",
    "ax.errorbar(df_.gdp / 1e9, df_['homicidespp'], \n",
    "            yerr = np.sqrt(df_['homicidespp'] * 1.0), fmt = '.')\n",
    "ax.set_xlabel(\"GDP (in billions)\")\n",
    "ax.set_ylabel(\"Number of homicides by firearm per person\")\n",
    "ax.set_ylim()\n",
    "pl.show()\n",
    "print (\"Number of homicides by firearm per person vs GDP, \" + \n",
    "       \"errors represent Poisson statistics.\\n\" + \n",
    "       \"The outlier to the right of the plot is the USA, \" + \n",
    "       \"which has the highest GDP. \" + \n",
    "       \"The outlier to the center of the plot is Japan, \" + \n",
    "       \"which has a relative high GDP. \")\n"
   ]
  },
  {
   "cell_type": "markdown",
   "metadata": {
    "run_control": {
     "frozen": false,
     "read_only": false
    }
   },
   "source": [
    "## plot the number of  homicides by fire arm against the number of civilian firearms. plot the  US in a different color\n",
    "with and without errorbars\n"
   ]
  },
  {
   "cell_type": "code",
   "execution_count": 17,
   "metadata": {},
   "outputs": [
    {
     "name": "stderr",
     "output_type": "stream",
     "text": [
      "/usr/local/Anaconda3-5.0.0-Linux-x86_64/envs/PUI2016_Python3/lib/python3.5/site-packages/matplotlib/font_manager.py:1316: UserWarning: findfont: Font family ['sans-serif'] not found. Falling back to DejaVu Sans\n",
      "  (prop.get_family(), self.defaultFamily[fontext]))\n"
     ]
    },
    {
     "data": {
      "image/png": "[encoded data removed]",
      "text/plain": [
       "<matplotlib.figure.Figure at 0x7fdab96246a0>"
      ]
     },
     "metadata": {},
     "output_type": "display_data"
    },
    {
     "name": "stdout",
     "output_type": "stream",
     "text": [
      "Number of homicides by firearm vs average total all civilian firearms, errors represent Poisson statistics, which is too small to show.\n",
      "The outlier to the upper right of the plot is the USA, which has the highest average total all civilian firearms and highest number of homicides by firearm. \n"
     ]
    }
   ],
   "source": [
    "fig = pl.figure(figsize=(10,5)) \n",
    "ax = fig.add_subplot(111)\n",
    "\n",
    "scatter = ax.scatter(df_[df_['Country Name'] != \"United States\"][\"Average total all civilian firearms\"], \n",
    "           df_[df_['Country Name'] != \"United States\"]['Number of homicides by firearm'])\n",
    "ax.errorbar(df_[df_['Country Name'] != \"United States\"][\"Average total all civilian firearms\"], \n",
    "            df_[df_['Country Name'] != \"United States\"]['Number of homicides by firearm'], \n",
    "            yerr = np.sqrt(df_[df_['Country Name'] != \"United States\"]['Number of homicides by firearm'] * 1.0), \n",
    "            fmt = '.')\n",
    "ax.scatter(df_[df_['Country Name'] == \"United States\"][\"Average total all civilian firearms\"], \n",
    "           df_[df_['Country Name'] == \"United States\"]['Number of homicides by firearm'], c=\"orange\")\n",
    "ax.errorbar(df_[df_['Country Name'] == \"United States\"][\"Average total all civilian firearms\"], \n",
    "            df_[df_['Country Name'] == \"United States\"]['Number of homicides by firearm'], \n",
    "            yerr = np.sqrt(df_[df_['Country Name'] == \"United States\"]['Number of homicides by firearm'] * 1.0), \n",
    "            fmt = '.', c=\"orange\")\n",
    "ax.set_xlabel(\"Average total all civilian firearms\")\n",
    "ax.set_ylabel(\"Number of homicides by firearm\")\n",
    "ax.set_ylim()\n",
    "pl.show()\n",
    "print (\"Number of homicides by firearm vs average total all civilian firearms, \" + \n",
    "       \"errors represent Poisson statistics, which is too small to show.\\n\" + \n",
    "       \"The outlier to the upper right of the plot is the USA, \" + \n",
    "       \"which has the highest average total all civilian firearms and highest number of homicides by firearm. \")"
   ]
  },
  {
   "cell_type": "code",
   "execution_count": 18,
   "metadata": {},
   "outputs": [
    {
     "name": "stderr",
     "output_type": "stream",
     "text": [
      "/usr/local/Anaconda3-5.0.0-Linux-x86_64/envs/PUI2016_Python3/lib/python3.5/site-packages/matplotlib/font_manager.py:1316: UserWarning: findfont: Font family ['sans-serif'] not found. Falling back to DejaVu Sans\n",
      "  (prop.get_family(), self.defaultFamily[fontext]))\n"
     ]
    },
    {
     "data": {
      "image/png": "[encoded data removed]",
      "text/plain": [
       "<matplotlib.figure.Figure at 0x7fdab96cf7f0>"
      ]
     },
     "metadata": {},
     "output_type": "display_data"
    },
    {
     "name": "stdout",
     "output_type": "stream",
     "text": [
      "Number of homicides by firearm vs average total all civilian firearms.\n",
      "The outlier to the upper right of the plot is the USA, which has the highest average total all civilian firearms and highest number of homicides by firearm. \n"
     ]
    }
   ],
   "source": [
    "fig = pl.figure(figsize=(10,5)) \n",
    "ax = fig.add_subplot(111)\n",
    "\n",
    "scatter = ax.scatter(df_[df_['Country Name'] != \"United States\"][\"Average total all civilian firearms\"], \n",
    "           df_[df_['Country Name'] != \"United States\"]['Number of homicides by firearm'])\n",
    "ax.scatter(df_[df_['Country Name'] == \"United States\"][\"Average total all civilian firearms\"], \n",
    "           df_[df_['Country Name'] == \"United States\"]['Number of homicides by firearm'], c=\"orange\")\n",
    "ax.set_xlabel(\"Average total all civilian firearms\")\n",
    "ax.set_ylabel(\"Number of homicides by firearm\")\n",
    "ax.set_ylim()\n",
    "pl.show()\n",
    "print (\"Number of homicides by firearm vs average total all civilian firearms.\\n\" + \n",
    "       \"The outlier to the upper right of the plot is the USA, \" + \n",
    "       \"which has the highest average total all civilian firearms and highest number of homicides by firearm. \")"
   ]
  },
  {
   "cell_type": "markdown",
   "metadata": {
    "run_control": {
     "frozen": false,
     "read_only": false
    }
   },
   "source": [
    "## plot the number of  mass shootings against the number of civilian firearms. plot the  US in a different color\n",
    "with and without errorbars\n"
   ]
  },
  {
   "cell_type": "code",
   "execution_count": 19,
   "metadata": {},
   "outputs": [
    {
     "name": "stderr",
     "output_type": "stream",
     "text": [
      "/usr/local/Anaconda3-5.0.0-Linux-x86_64/envs/PUI2016_Python3/lib/python3.5/site-packages/matplotlib/font_manager.py:1316: UserWarning: findfont: Font family ['sans-serif'] not found. Falling back to DejaVu Sans\n",
      "  (prop.get_family(), self.defaultFamily[fontext]))\n"
     ]
    },
    {
     "data": {
      "image/png": "[encoded data removed]",
      "text/plain": [
       "<matplotlib.figure.Figure at 0x7fdab672cf28>"
      ]
     },
     "metadata": {},
     "output_type": "display_data"
    },
    {
     "name": "stdout",
     "output_type": "stream",
     "text": [
      "Number of mass shootings vs average total all civilian firearms, errors represent Poisson statistics.\n",
      "The outlier to the upper right of the plot is the USA, which has the highest average total all civilian firearms and highest number of mass shootings. \n"
     ]
    }
   ],
   "source": [
    "fig = pl.figure(figsize=(10,5)) \n",
    "ax = fig.add_subplot(111)\n",
    "\n",
    "scatter = ax.scatter(df_[df_['Country Name'] != \"United States\"][\"Average total all civilian firearms\"], \n",
    "           df_[df_['Country Name'] != \"United States\"]['Number of mass shootings'])\n",
    "ax.errorbar(df_[df_['Country Name'] != \"United States\"][\"Average total all civilian firearms\"], \n",
    "            df_[df_['Country Name'] != \"United States\"]['Number of mass shootings'], \n",
    "            yerr = np.sqrt(df_[df_['Country Name'] != \"United States\"]['Number of mass shootings'] * 1.0), \n",
    "            fmt = '.')\n",
    "ax.scatter(df_[df_['Country Name'] == \"United States\"][\"Average total all civilian firearms\"], \n",
    "           df_[df_['Country Name'] == \"United States\"]['Number of mass shootings'], c=\"orange\")\n",
    "ax.errorbar(df_[df_['Country Name'] == \"United States\"][\"Average total all civilian firearms\"], \n",
    "            df_[df_['Country Name'] == \"United States\"]['Number of mass shootings'], \n",
    "            yerr = np.sqrt(df_[df_['Country Name'] == \"United States\"]['Number of mass shootings'] * 1.0), \n",
    "            fmt = '.', c=\"orange\")\n",
    "ax.set_xlabel(\"Average total all civilian firearms\")\n",
    "ax.set_ylabel(\"Number of mass shootings\")\n",
    "ax.set_ylim()\n",
    "pl.show()\n",
    "print (\"Number of mass shootings vs average total all civilian firearms, \" + \n",
    "       \"errors represent Poisson statistics.\\n\" + \n",
    "       \"The outlier to the upper right of the plot is the USA, \" + \n",
    "       \"which has the highest average total all civilian firearms and highest number of mass shootings. \")"
   ]
  },
  {
   "cell_type": "code",
   "execution_count": 20,
   "metadata": {},
   "outputs": [
    {
     "name": "stderr",
     "output_type": "stream",
     "text": [
      "/usr/local/Anaconda3-5.0.0-Linux-x86_64/envs/PUI2016_Python3/lib/python3.5/site-packages/matplotlib/font_manager.py:1316: UserWarning: findfont: Font family ['sans-serif'] not found. Falling back to DejaVu Sans\n",
      "  (prop.get_family(), self.defaultFamily[fontext]))\n"
     ]
    },
    {
     "data": {
      "image/png": "[encoded data removed]",
      "text/plain": [
       "<matplotlib.figure.Figure at 0x7fdab673c4e0>"
      ]
     },
     "metadata": {},
     "output_type": "display_data"
    },
    {
     "name": "stdout",
     "output_type": "stream",
     "text": [
      "Number of mass shootings vs average total all civilian firearms.\n",
      "The outlier to the upper right of the plot is the USA, which has the highest average total all civilian firearms and highest number of mass shootings. \n"
     ]
    }
   ],
   "source": [
    "fig = pl.figure(figsize=(10,5)) \n",
    "ax = fig.add_subplot(111)\n",
    "\n",
    "scatter = ax.scatter(df_[df_['Country Name'] != \"United States\"][\"Average total all civilian firearms\"], \n",
    "           df_[df_['Country Name'] != \"United States\"]['Number of mass shootings'])\n",
    "ax.scatter(df_[df_['Country Name'] == \"United States\"][\"Average total all civilian firearms\"], \n",
    "           df_[df_['Country Name'] == \"United States\"]['Number of mass shootings'], c=\"orange\")\n",
    "ax.set_xlabel(\"Average total all civilian firearms\")\n",
    "ax.set_ylabel(\"Number of mass shootings\")\n",
    "ax.set_ylim()\n",
    "pl.show()\n",
    "print (\"Number of mass shootings vs average total all civilian firearms.\\n\" + \n",
    "       \"The outlier to the upper right of the plot is the USA, \" + \n",
    "       \"which has the highest average total all civilian firearms and highest number of mass shootings. \")"
   ]
  },
  {
   "cell_type": "markdown",
   "metadata": {
    "run_control": {
     "frozen": false,
     "read_only": false
    }
   },
   "source": [
    "# Modeling\n",
    "\n",
    "## fit a line to the Number of mass shootings  per person as a function of Average total all civilian firearms per person. \n",
    "Before you do it it is a good idea to make sure that both quantities are roughly of the same order of magnitude (unity). (You can simply divide by the order of magnitude of the mean of the sample to obtain this). Use\n",
    "\n",
    "    - statsmodels OLS\n",
    "    - statsmodels WLS\n",
    "    - seaborn\n",
    "    - choose one of\n",
    "        -- creating a function that calculates the residuals and minimizing that function\n",
    "        -- analytical solution http://mathworld.wolfram.com/LeastSquaresFitting.html\n",
    "        -- numpy.polyfit() - https://docs.scipy.org/doc/numpy-1.13.0/reference/generated/numpy.polyfit.html\n",
    "    \n",
    "\n",
    "WLS: that is the weighted square fit. The statsmodel package WLS function allows you to take the uncertainties of each data point into account when you fit your model. It takes the parameter weights, which is the inverse of your errors:\n",
    "weights = 1.0/df.yerror\n",
    "Notice that \n",
    "    a - sqrt(0) = 0\n",
    "    b - 1/0 = infinity\n",
    "    c - you cannot have weight that are infinity in your fit. Please come up with a solution and justify it.\n",
    "\n",
    "\n",
    "the latter three you can learn about in this example: https://github.com/fedhere/PUI2017_fb55/blob/master/Lab5_fb55/genderIncomeBias.ipynb\n",
    "Since we did not discuss these, I will add some notes to the repo in the afternoon.\n",
    "\n",
    "Use the seaborn python package built in regression function  to plot the regression confidence intervals. \n",
    "\n",
    "import seaborn  as sns\n",
    "sns.regplot(x=\"x\", y=\"y\", data=df);\n",
    "\n",
    "\n"
   ]
  },
  {
   "cell_type": "code",
   "execution_count": 21,
   "metadata": {},
   "outputs": [
    {
     "data": {
      "text/html": [
       "<div>\n",
       "<table border=\"1\" class=\"dataframe\">\n",
       "  <thead>\n",
       "    <tr style=\"text-align: right;\">\n",
       "      <th></th>\n",
       "      <th>Country Name</th>\n",
       "      <th>Average total all civilian firearms</th>\n",
       "      <th>Number of homicides by firearm</th>\n",
       "      <th>pop</th>\n",
       "      <th>gdp</th>\n",
       "      <th>Country</th>\n",
       "      <th>Guns per 100 inhabitants</th>\n",
       "      <th>Number of mass shootings</th>\n",
       "      <th>gdppp</th>\n",
       "      <th>shootingspp</th>\n",
       "      <th>firearmspp</th>\n",
       "      <th>homicidespp</th>\n",
       "    </tr>\n",
       "  </thead>\n",
       "  <tbody>\n",
       "    <tr>\n",
       "      <th>0</th>\n",
       "      <td>Australia</td>\n",
       "      <td>3050000.0</td>\n",
       "      <td>30.0</td>\n",
       "      <td>22742475.0</td>\n",
       "      <td>1.543411e+12</td>\n",
       "      <td>Australia</td>\n",
       "      <td>15.0</td>\n",
       "      <td>4</td>\n",
       "      <td>67864.689862</td>\n",
       "      <td>1.758824</td>\n",
       "      <td>0.134110</td>\n",
       "      <td>0.001319</td>\n",
       "    </tr>\n",
       "    <tr>\n",
       "      <th>1</th>\n",
       "      <td>Austria</td>\n",
       "      <td>2500000.0</td>\n",
       "      <td>18.0</td>\n",
       "      <td>8429991.0</td>\n",
       "      <td>4.094252e+11</td>\n",
       "      <td>Austria</td>\n",
       "      <td>30.4</td>\n",
       "      <td>1</td>\n",
       "      <td>48567.695286</td>\n",
       "      <td>1.186241</td>\n",
       "      <td>0.296560</td>\n",
       "      <td>0.002135</td>\n",
       "    </tr>\n",
       "    <tr>\n",
       "      <th>2</th>\n",
       "      <td>Belgium</td>\n",
       "      <td>1800000.0</td>\n",
       "      <td>70.0</td>\n",
       "      <td>11128246.0</td>\n",
       "      <td>4.978842e+11</td>\n",
       "      <td>Belgium</td>\n",
       "      <td>17.2</td>\n",
       "      <td>2</td>\n",
       "      <td>44740.583248</td>\n",
       "      <td>1.797228</td>\n",
       "      <td>0.161751</td>\n",
       "      <td>0.006290</td>\n",
       "    </tr>\n",
       "    <tr>\n",
       "      <th>3</th>\n",
       "      <td>Canada</td>\n",
       "      <td>9950000.0</td>\n",
       "      <td>173.0</td>\n",
       "      <td>34750545.0</td>\n",
       "      <td>1.824289e+12</td>\n",
       "      <td>Canada</td>\n",
       "      <td>30.8</td>\n",
       "      <td>4</td>\n",
       "      <td>52496.694870</td>\n",
       "      <td>1.151061</td>\n",
       "      <td>0.286326</td>\n",
       "      <td>0.004978</td>\n",
       "    </tr>\n",
       "    <tr>\n",
       "      <th>4</th>\n",
       "      <td>Denmark</td>\n",
       "      <td>650000.0</td>\n",
       "      <td>15.0</td>\n",
       "      <td>5591572.0</td>\n",
       "      <td>3.271489e+11</td>\n",
       "      <td>Denmark</td>\n",
       "      <td>12.0</td>\n",
       "      <td>0</td>\n",
       "      <td>58507.500210</td>\n",
       "      <td>0.000000</td>\n",
       "      <td>0.116246</td>\n",
       "      <td>0.002683</td>\n",
       "    </tr>\n",
       "  </tbody>\n",
       "</table>\n",
       "</div>"
      ],
      "text/plain": [
       "  Country Name  Average total all civilian firearms  \\\n",
       "0    Australia                            3050000.0   \n",
       "1      Austria                            2500000.0   \n",
       "2      Belgium                            1800000.0   \n",
       "3       Canada                            9950000.0   \n",
       "4      Denmark                             650000.0   \n",
       "\n",
       "   Number of homicides by firearm         pop           gdp    Country  \\\n",
       "0                            30.0  22742475.0  1.543411e+12  Australia   \n",
       "1                            18.0   8429991.0  4.094252e+11    Austria   \n",
       "2                            70.0  11128246.0  4.978842e+11    Belgium   \n",
       "3                           173.0  34750545.0  1.824289e+12     Canada   \n",
       "4                            15.0   5591572.0  3.271489e+11    Denmark   \n",
       "\n",
       "   Guns per 100 inhabitants  Number of mass shootings         gdppp  \\\n",
       "0                      15.0                         4  67864.689862   \n",
       "1                      30.4                         1  48567.695286   \n",
       "2                      17.2                         2  44740.583248   \n",
       "3                      30.8                         4  52496.694870   \n",
       "4                      12.0                         0  58507.500210   \n",
       "\n",
       "   shootingspp  firearmspp  homicidespp  \n",
       "0     1.758824    0.134110     0.001319  \n",
       "1     1.186241    0.296560     0.002135  \n",
       "2     1.797228    0.161751     0.006290  \n",
       "3     1.151061    0.286326     0.004978  \n",
       "4     0.000000    0.116246     0.002683  "
      ]
     },
     "execution_count": 21,
     "metadata": {},
     "output_type": "execute_result"
    }
   ],
   "source": [
    "# match unity\n",
    "df_['shootingspp'] = df_[\"Number of mass shootings\"] / df_['pop'] * 1e7\n",
    "df_.head()"
   ]
  },
  {
   "cell_type": "code",
   "execution_count": 22,
   "metadata": {},
   "outputs": [
    {
     "name": "stderr",
     "output_type": "stream",
     "text": [
      "/usr/local/Anaconda3-5.0.0-Linux-x86_64/envs/PUI2016_Python3/lib/python3.5/site-packages/matplotlib/font_manager.py:1316: UserWarning: findfont: Font family ['sans-serif'] not found. Falling back to DejaVu Sans\n",
      "  (prop.get_family(), self.defaultFamily[fontext]))\n"
     ]
    },
    {
     "data": {
      "image/png": "[encoded data removed]",
      "text/plain": [
       "<matplotlib.figure.Figure at 0x7fdab6674358>"
      ]
     },
     "metadata": {},
     "output_type": "display_data"
    },
    {
     "name": "stdout",
     "output_type": "stream",
     "text": [
      "Number of mass shootings per person vs average total all civilian firearms per person.\n"
     ]
    }
   ],
   "source": [
    "fig = pl.figure(figsize=(10,5)) \n",
    "ax = fig.add_subplot(111)\n",
    "\n",
    "ax.scatter(df_['firearmspp'], df_['shootingspp'])\n",
    "ax.set_xlabel(\"Average total all civilian firearms per person\")\n",
    "ax.set_ylabel(\"Number of mass shootings per person\")\n",
    "ax.set_ylim()\n",
    "pl.show()\n",
    "print(\"Number of mass shootings per person vs average total all civilian firearms per person.\")"
   ]
  },
  {
   "cell_type": "code",
   "execution_count": 23,
   "metadata": {},
   "outputs": [
    {
     "data": {
      "text/html": [
       "<table class=\"simpletable\">\n",
       "<caption>OLS Regression Results</caption>\n",
       "<tr>\n",
       "  <th>Dep. Variable:</th>       <td>shootingspp</td>   <th>  R-squared:         </th> <td>   0.192</td>\n",
       "</tr>\n",
       "<tr>\n",
       "  <th>Model:</th>                   <td>OLS</td>       <th>  Adj. R-squared:    </th> <td>   0.153</td>\n",
       "</tr>\n",
       "<tr>\n",
       "  <th>Method:</th>             <td>Least Squares</td>  <th>  F-statistic:       </th> <td>   4.981</td>\n",
       "</tr>\n",
       "<tr>\n",
       "  <th>Date:</th>             <td>Sun, 11 Nov 2018</td> <th>  Prob (F-statistic):</th>  <td>0.0367</td> \n",
       "</tr>\n",
       "<tr>\n",
       "  <th>Time:</th>                 <td>12:08:30</td>     <th>  Log-Likelihood:    </th> <td> -40.676</td>\n",
       "</tr>\n",
       "<tr>\n",
       "  <th>No. Observations:</th>      <td>    23</td>      <th>  AIC:               </th> <td>   85.35</td>\n",
       "</tr>\n",
       "<tr>\n",
       "  <th>Df Residuals:</th>          <td>    21</td>      <th>  BIC:               </th> <td>   87.62</td>\n",
       "</tr>\n",
       "<tr>\n",
       "  <th>Df Model:</th>              <td>     1</td>      <th>                     </th>     <td> </td>   \n",
       "</tr>\n",
       "<tr>\n",
       "  <th>Covariance Type:</th>      <td>nonrobust</td>    <th>                     </th>     <td> </td>   \n",
       "</tr>\n",
       "</table>\n",
       "<table class=\"simpletable\">\n",
       "<tr>\n",
       "       <td></td>         <th>coef</th>     <th>std err</th>      <th>t</th>      <th>P>|t|</th> <th>[95.0% Conf. Int.]</th> \n",
       "</tr>\n",
       "<tr>\n",
       "  <th>const</th>      <td>    0.3684</td> <td>    0.497</td> <td>    0.742</td> <td> 0.467</td> <td>   -0.665     1.402</td>\n",
       "</tr>\n",
       "<tr>\n",
       "  <th>firearmspp</th> <td>    3.8373</td> <td>    1.719</td> <td>    2.232</td> <td> 0.037</td> <td>    0.262     7.413</td>\n",
       "</tr>\n",
       "</table>\n",
       "<table class=\"simpletable\">\n",
       "<tr>\n",
       "  <th>Omnibus:</th>       <td>34.558</td> <th>  Durbin-Watson:     </th> <td>   1.982</td>\n",
       "</tr>\n",
       "<tr>\n",
       "  <th>Prob(Omnibus):</th> <td> 0.000</td> <th>  Jarque-Bera (JB):  </th> <td>  88.760</td>\n",
       "</tr>\n",
       "<tr>\n",
       "  <th>Skew:</th>          <td> 2.666</td> <th>  Prob(JB):          </th> <td>5.32e-20</td>\n",
       "</tr>\n",
       "<tr>\n",
       "  <th>Kurtosis:</th>      <td>11.012</td> <th>  Cond. No.          </th> <td>    5.85</td>\n",
       "</tr>\n",
       "</table>"
      ],
      "text/plain": [
       "<class 'statsmodels.iolib.summary.Summary'>\n",
       "\"\"\"\n",
       "                            OLS Regression Results                            \n",
       "==============================================================================\n",
       "Dep. Variable:            shootingspp   R-squared:                       0.192\n",
       "Model:                            OLS   Adj. R-squared:                  0.153\n",
       "Method:                 Least Squares   F-statistic:                     4.981\n",
       "Date:                Sun, 11 Nov 2018   Prob (F-statistic):             0.0367\n",
       "Time:                        12:08:30   Log-Likelihood:                -40.676\n",
       "No. Observations:                  23   AIC:                             85.35\n",
       "Df Residuals:                      21   BIC:                             87.62\n",
       "Df Model:                           1                                         \n",
       "Covariance Type:            nonrobust                                         \n",
       "==============================================================================\n",
       "                 coef    std err          t      P>|t|      [95.0% Conf. Int.]\n",
       "------------------------------------------------------------------------------\n",
       "const          0.3684      0.497      0.742      0.467        -0.665     1.402\n",
       "firearmspp     3.8373      1.719      2.232      0.037         0.262     7.413\n",
       "==============================================================================\n",
       "Omnibus:                       34.558   Durbin-Watson:                   1.982\n",
       "Prob(Omnibus):                  0.000   Jarque-Bera (JB):               88.760\n",
       "Skew:                           2.666   Prob(JB):                     5.32e-20\n",
       "Kurtosis:                      11.012   Cond. No.                         5.85\n",
       "==============================================================================\n",
       "\n",
       "Warnings:\n",
       "[1] Standard Errors assume that the covariance matrix of the errors is correctly specified.\n",
       "\"\"\""
      ]
     },
     "execution_count": 23,
     "metadata": {},
     "output_type": "execute_result"
    }
   ],
   "source": [
    "smols = sm.OLS(df_['shootingspp'], sm.add_constant(df_['firearmspp'])).fit()\n",
    "smols.summary()"
   ]
  },
  {
   "cell_type": "code",
   "execution_count": 24,
   "metadata": {},
   "outputs": [
    {
     "name": "stderr",
     "output_type": "stream",
     "text": [
      "/usr/local/Anaconda3-5.0.0-Linux-x86_64/envs/PUI2016_Python3/lib/python3.5/site-packages/matplotlib/font_manager.py:1316: UserWarning: findfont: Font family ['sans-serif'] not found. Falling back to DejaVu Sans\n",
      "  (prop.get_family(), self.defaultFamily[fontext]))\n"
     ]
    },
    {
     "data": {
      "image/png": "[encoded data removed]",
      "text/plain": [
       "<matplotlib.figure.Figure at 0x7fdab672c438>"
      ]
     },
     "metadata": {},
     "output_type": "display_data"
    },
    {
     "name": "stdout",
     "output_type": "stream",
     "text": [
      "Number of mass shootings per person vs average total all civilian firearms per person, as well as the OLS fit line.\n"
     ]
    }
   ],
   "source": [
    "fig = pl.figure(figsize=(10,5)) \n",
    "ax = fig.add_subplot(111)\n",
    "\n",
    "ax.scatter(df_['firearmspp'], df_['shootingspp'], label=\"y\")\n",
    "ax.plot(df_['firearmspp'], smols.predict(sm.add_constant(df_['firearmspp'])), label=\"OLS fit\", color=\"black\")\n",
    "ax.set_xlabel(\"Average total all civilian firearms per person\")\n",
    "ax.set_ylabel(\"Number of mass shootings per person\")\n",
    "ax.legend()\n",
    "ax.set_ylim()\n",
    "pl.show()\n",
    "print(\"Number of mass shootings per person vs average total all civilian firearms per person, \" + \n",
    "      \"as well as the OLS fit line.\")"
   ]
  },
  {
   "cell_type": "code",
   "execution_count": 25,
   "metadata": {},
   "outputs": [
    {
     "data": {
      "text/html": [
       "<table class=\"simpletable\">\n",
       "<caption>WLS Regression Results</caption>\n",
       "<tr>\n",
       "  <th>Dep. Variable:</th>       <td>shootingspp</td>   <th>  R-squared:         </th> <td>   0.281</td>\n",
       "</tr>\n",
       "<tr>\n",
       "  <th>Model:</th>                   <td>WLS</td>       <th>  Adj. R-squared:    </th> <td>   0.247</td>\n",
       "</tr>\n",
       "<tr>\n",
       "  <th>Method:</th>             <td>Least Squares</td>  <th>  F-statistic:       </th> <td>   8.220</td>\n",
       "</tr>\n",
       "<tr>\n",
       "  <th>Date:</th>             <td>Sun, 11 Nov 2018</td> <th>  Prob (F-statistic):</th>  <td>0.00923</td>\n",
       "</tr>\n",
       "<tr>\n",
       "  <th>Time:</th>                 <td>12:08:32</td>     <th>  Log-Likelihood:    </th> <td> -38.631</td>\n",
       "</tr>\n",
       "<tr>\n",
       "  <th>No. Observations:</th>      <td>    23</td>      <th>  AIC:               </th> <td>   81.26</td>\n",
       "</tr>\n",
       "<tr>\n",
       "  <th>Df Residuals:</th>          <td>    21</td>      <th>  BIC:               </th> <td>   83.53</td>\n",
       "</tr>\n",
       "<tr>\n",
       "  <th>Df Model:</th>              <td>     1</td>      <th>                     </th>     <td> </td>   \n",
       "</tr>\n",
       "<tr>\n",
       "  <th>Covariance Type:</th>      <td>nonrobust</td>    <th>                     </th>     <td> </td>   \n",
       "</tr>\n",
       "</table>\n",
       "<table class=\"simpletable\">\n",
       "<tr>\n",
       "       <td></td>         <th>coef</th>     <th>std err</th>      <th>t</th>      <th>P>|t|</th> <th>[95.0% Conf. Int.]</th> \n",
       "</tr>\n",
       "<tr>\n",
       "  <th>const</th>      <td>    0.0763</td> <td>    0.354</td> <td>    0.216</td> <td> 0.831</td> <td>   -0.659     0.812</td>\n",
       "</tr>\n",
       "<tr>\n",
       "  <th>firearmspp</th> <td>    4.9500</td> <td>    1.727</td> <td>    2.867</td> <td> 0.009</td> <td>    1.359     8.541</td>\n",
       "</tr>\n",
       "</table>\n",
       "<table class=\"simpletable\">\n",
       "<tr>\n",
       "  <th>Omnibus:</th>       <td>35.826</td> <th>  Durbin-Watson:     </th> <td>   1.979</td>\n",
       "</tr>\n",
       "<tr>\n",
       "  <th>Prob(Omnibus):</th> <td> 0.000</td> <th>  Jarque-Bera (JB):  </th> <td>  98.403</td>\n",
       "</tr>\n",
       "<tr>\n",
       "  <th>Skew:</th>          <td> 2.738</td> <th>  Prob(JB):          </th> <td>4.29e-22</td>\n",
       "</tr>\n",
       "<tr>\n",
       "  <th>Kurtosis:</th>      <td>11.526</td> <th>  Cond. No.          </th> <td>    6.85</td>\n",
       "</tr>\n",
       "</table>"
      ],
      "text/plain": [
       "<class 'statsmodels.iolib.summary.Summary'>\n",
       "\"\"\"\n",
       "                            WLS Regression Results                            \n",
       "==============================================================================\n",
       "Dep. Variable:            shootingspp   R-squared:                       0.281\n",
       "Model:                            WLS   Adj. R-squared:                  0.247\n",
       "Method:                 Least Squares   F-statistic:                     8.220\n",
       "Date:                Sun, 11 Nov 2018   Prob (F-statistic):            0.00923\n",
       "Time:                        12:08:32   Log-Likelihood:                -38.631\n",
       "No. Observations:                  23   AIC:                             81.26\n",
       "Df Residuals:                      21   BIC:                             83.53\n",
       "Df Model:                           1                                         \n",
       "Covariance Type:            nonrobust                                         \n",
       "==============================================================================\n",
       "                 coef    std err          t      P>|t|      [95.0% Conf. Int.]\n",
       "------------------------------------------------------------------------------\n",
       "const          0.0763      0.354      0.216      0.831        -0.659     0.812\n",
       "firearmspp     4.9500      1.727      2.867      0.009         1.359     8.541\n",
       "==============================================================================\n",
       "Omnibus:                       35.826   Durbin-Watson:                   1.979\n",
       "Prob(Omnibus):                  0.000   Jarque-Bera (JB):               98.403\n",
       "Skew:                           2.738   Prob(JB):                     4.29e-22\n",
       "Kurtosis:                      11.526   Cond. No.                         6.85\n",
       "==============================================================================\n",
       "\n",
       "Warnings:\n",
       "[1] Standard Errors assume that the covariance matrix of the errors is correctly specified.\n",
       "\"\"\""
      ]
     },
     "execution_count": 25,
     "metadata": {},
     "output_type": "execute_result"
    }
   ],
   "source": [
    "# use a very small number to avoid 1/0\n",
    "smwls = sm.WLS(df_['shootingspp'], sm.add_constant(df_['firearmspp']), \n",
    "               weights=[1/(sqrt(xx) + 1e-10) for xx in df_['firearmspp']]).fit()\n",
    "smwls.summary()"
   ]
  },
  {
   "cell_type": "code",
   "execution_count": 26,
   "metadata": {},
   "outputs": [
    {
     "name": "stderr",
     "output_type": "stream",
     "text": [
      "/usr/local/Anaconda3-5.0.0-Linux-x86_64/envs/PUI2016_Python3/lib/python3.5/site-packages/matplotlib/font_manager.py:1316: UserWarning: findfont: Font family ['sans-serif'] not found. Falling back to DejaVu Sans\n",
      "  (prop.get_family(), self.defaultFamily[fontext]))\n"
     ]
    },
    {
     "data": {
      "image/png": "[encoded data removed]",
      "text/plain": [
       "<matplotlib.figure.Figure at 0x7fdab95880b8>"
      ]
     },
     "metadata": {},
     "output_type": "display_data"
    },
    {
     "name": "stdout",
     "output_type": "stream",
     "text": [
      "Number of mass shootings per person vs average total all civilian firearms per person, errors represent Poisson statistics.\n",
      "Also the OLS and WLS fit line.\n"
     ]
    }
   ],
   "source": [
    "fig = pl.figure(figsize=(10,5)) \n",
    "ax = fig.add_subplot(111)\n",
    "\n",
    "ax.scatter(df_['firearmspp'], df_['shootingspp'], label=\"y\")\n",
    "ax.plot(df_['firearmspp'], smols.predict(sm.add_constant(df_['firearmspp'])), label=\"OLS fit\", color=\"black\")\n",
    "ax.plot(df_['firearmspp'], smwls.predict(sm.add_constant(df_['firearmspp'])), label=\"WLS fit\", color=\"red\")\n",
    "ax.errorbar(df_['firearmspp'], df_['shootingspp'], yerr = np.sqrt(df_['shootingspp'] * 1.0), fmt = '.', label='yerr')\n",
    "ax.set_xlabel(\"Average total all civilian firearms per person\")\n",
    "ax.set_ylabel(\"Number of mass shootings per person\")\n",
    "ax.legend()\n",
    "ax.set_ylim()\n",
    "pl.show()\n",
    "print(\"Number of mass shootings per person vs average total all civilian firearms per person, \" + \n",
    "      \"errors represent Poisson statistics.\\n\" + \n",
    "      \"Also the OLS and WLS fit line.\")"
   ]
  },
  {
   "cell_type": "code",
   "execution_count": 27,
   "metadata": {},
   "outputs": [
    {
     "name": "stderr",
     "output_type": "stream",
     "text": [
      "/usr/local/Anaconda3-5.0.0-Linux-x86_64/envs/PUI2016_Python3/lib/python3.5/site-packages/matplotlib/font_manager.py:1316: UserWarning: findfont: Font family ['sans-serif'] not found. Falling back to DejaVu Sans\n",
      "  (prop.get_family(), self.defaultFamily[fontext]))\n"
     ]
    },
    {
     "data": {
      "image/png": "[encoded data removed]",
      "text/plain": [
       "<matplotlib.figure.Figure at 0x7fdab95d65c0>"
      ]
     },
     "metadata": {},
     "output_type": "display_data"
    },
    {
     "name": "stdout",
     "output_type": "stream",
     "text": [
      "Number of mass shootings per person vs average total all civilian firearms per person, errors represent Poisson statistics.\n",
      "Also the OLS, WLS and seaborn fit line.\n"
     ]
    }
   ],
   "source": [
    "fig = pl.figure(figsize=(10,5)) \n",
    "ax = fig.add_subplot(111)\n",
    "\n",
    "sns.regplot(y='shootingspp', x='firearmspp', data=df_, ax=ax, color=\"purple\", label=\"sns\")\n",
    "ax.scatter(df_['firearmspp'], df_['shootingspp'], label=\"y\")\n",
    "ax.plot(df_['firearmspp'], smols.predict(sm.add_constant(df_['firearmspp'])), label=\"OLS fit\", color=\"black\")\n",
    "ax.plot(df_['firearmspp'], smwls.predict(sm.add_constant(df_['firearmspp'])), label=\"WLS fit\", color=\"red\")\n",
    "ax.errorbar(df_['firearmspp'], df_['shootingspp'], yerr = np.sqrt(df_['shootingspp'] * 1.0), fmt = '.', label='yerr')\n",
    "ax.set_xlabel(\"Average total all civilian firearms per person\")\n",
    "ax.set_ylabel(\"Number of mass shootings per person\")\n",
    "ax.legend()\n",
    "ax.set_ylim()\n",
    "pl.show()\n",
    "print(\"Number of mass shootings per person vs average total all civilian firearms per person, \" + \n",
    "      \"errors represent Poisson statistics.\\n\" + \n",
    "      \"Also the OLS, WLS and seaborn fit line.\")"
   ]
  },
  {
   "cell_type": "code",
   "execution_count": 28,
   "metadata": {},
   "outputs": [],
   "source": [
    "# I choose np.polyfit for linear regression\n",
    "coeff, inter = np.polyfit(y=df_['shootingspp'], x=df_['firearmspp'], deg=1)"
   ]
  },
  {
   "cell_type": "code",
   "execution_count": 29,
   "metadata": {},
   "outputs": [
    {
     "name": "stderr",
     "output_type": "stream",
     "text": [
      "/usr/local/Anaconda3-5.0.0-Linux-x86_64/envs/PUI2016_Python3/lib/python3.5/site-packages/matplotlib/font_manager.py:1316: UserWarning: findfont: Font family ['sans-serif'] not found. Falling back to DejaVu Sans\n",
      "  (prop.get_family(), self.defaultFamily[fontext]))\n"
     ]
    },
    {
     "data": {
      "image/png": "[encoded data removed]",
      "text/plain": [
       "<matplotlib.figure.Figure at 0x7fdab66d8908>"
      ]
     },
     "metadata": {},
     "output_type": "display_data"
    },
    {
     "name": "stdout",
     "output_type": "stream",
     "text": [
      "Number of mass shootings per person vs average total all civilian firearms per person, errors represent Poisson statistics.\n",
      "Also the OLS, WLS, seaborn and Numpy Poly fit line.\n"
     ]
    }
   ],
   "source": [
    "fig = pl.figure(figsize=(10,5)) \n",
    "ax = fig.add_subplot(111)\n",
    "\n",
    "sns.regplot(y='shootingspp', x='firearmspp', data=df_, ax=ax, color=\"purple\", label=\"sns\")\n",
    "ax.scatter(df_['firearmspp'], df_['shootingspp'], label=\"y\")\n",
    "ax.plot(df_['firearmspp'], smols.predict(sm.add_constant(df_['firearmspp'])), label=\"OLS fit\", color=\"black\")\n",
    "ax.plot(df_['firearmspp'], smwls.predict(sm.add_constant(df_['firearmspp'])), label=\"WLS fit\", color=\"red\")\n",
    "ax.plot(df_['firearmspp'], coeff * df_['firearmspp'] + inter, label=\"Numpy Poly fit\", color=\"Green\")\n",
    "ax.errorbar(df_['firearmspp'], df_['shootingspp'], yerr = np.sqrt(df_['shootingspp'] * 1.0), fmt = '.', label='yerr')\n",
    "ax.set_xlabel(\"Average total all civilian firearms per person\")\n",
    "ax.set_ylabel(\"Number of mass shootings per person\")\n",
    "ax.legend()\n",
    "ax.set_ylim()\n",
    "pl.show()\n",
    "print(\"Number of mass shootings per person vs average total all civilian firearms per person, \" + \n",
    "      \"errors represent Poisson statistics.\\n\" + \n",
    "      \"Also the OLS, WLS, seaborn and Numpy Poly fit line.\")"
   ]
  },
  {
   "cell_type": "markdown",
   "metadata": {
    "run_control": {
     "frozen": false,
     "read_only": false
    }
   },
   "source": [
    "## Outlier removal:\n",
    "The concept of outlier is actually rather sophisticated: a point can be an outlier in a context but not in another. If you want to remove outliers and try different fits, here is some info on how to remove data efficiently from a dataset \n",
    "    https://gist.github.com/fedhere/89db40a3c9a28335bf5a35d52a52c595"
   ]
  },
  {
   "cell_type": "code",
   "execution_count": 30,
   "metadata": {},
   "outputs": [
    {
     "data": {
      "text/html": [
       "<div>\n",
       "<table border=\"1\" class=\"dataframe\">\n",
       "  <thead>\n",
       "    <tr style=\"text-align: right;\">\n",
       "      <th></th>\n",
       "      <th>Country Name</th>\n",
       "      <th>Average total all civilian firearms</th>\n",
       "      <th>Number of homicides by firearm</th>\n",
       "      <th>pop</th>\n",
       "      <th>gdp</th>\n",
       "      <th>Country</th>\n",
       "      <th>Guns per 100 inhabitants</th>\n",
       "      <th>Number of mass shootings</th>\n",
       "      <th>gdppp</th>\n",
       "      <th>shootingspp</th>\n",
       "      <th>firearmspp</th>\n",
       "      <th>homicidespp</th>\n",
       "    </tr>\n",
       "  </thead>\n",
       "  <tbody>\n",
       "    <tr>\n",
       "      <th>0</th>\n",
       "      <td>Australia</td>\n",
       "      <td>3050000.0</td>\n",
       "      <td>30.0</td>\n",
       "      <td>22742475.0</td>\n",
       "      <td>1.543411e+12</td>\n",
       "      <td>Australia</td>\n",
       "      <td>15.0</td>\n",
       "      <td>4</td>\n",
       "      <td>67864.689862</td>\n",
       "      <td>1.758824</td>\n",
       "      <td>0.134110</td>\n",
       "      <td>0.001319</td>\n",
       "    </tr>\n",
       "    <tr>\n",
       "      <th>1</th>\n",
       "      <td>Austria</td>\n",
       "      <td>2500000.0</td>\n",
       "      <td>18.0</td>\n",
       "      <td>8429991.0</td>\n",
       "      <td>4.094252e+11</td>\n",
       "      <td>Austria</td>\n",
       "      <td>30.4</td>\n",
       "      <td>1</td>\n",
       "      <td>48567.695286</td>\n",
       "      <td>1.186241</td>\n",
       "      <td>0.296560</td>\n",
       "      <td>0.002135</td>\n",
       "    </tr>\n",
       "    <tr>\n",
       "      <th>2</th>\n",
       "      <td>Belgium</td>\n",
       "      <td>1800000.0</td>\n",
       "      <td>70.0</td>\n",
       "      <td>11128246.0</td>\n",
       "      <td>4.978842e+11</td>\n",
       "      <td>Belgium</td>\n",
       "      <td>17.2</td>\n",
       "      <td>2</td>\n",
       "      <td>44740.583248</td>\n",
       "      <td>1.797228</td>\n",
       "      <td>0.161751</td>\n",
       "      <td>0.006290</td>\n",
       "    </tr>\n",
       "    <tr>\n",
       "      <th>3</th>\n",
       "      <td>Canada</td>\n",
       "      <td>9950000.0</td>\n",
       "      <td>173.0</td>\n",
       "      <td>34750545.0</td>\n",
       "      <td>1.824289e+12</td>\n",
       "      <td>Canada</td>\n",
       "      <td>30.8</td>\n",
       "      <td>4</td>\n",
       "      <td>52496.694870</td>\n",
       "      <td>1.151061</td>\n",
       "      <td>0.286326</td>\n",
       "      <td>0.004978</td>\n",
       "    </tr>\n",
       "    <tr>\n",
       "      <th>4</th>\n",
       "      <td>Denmark</td>\n",
       "      <td>650000.0</td>\n",
       "      <td>15.0</td>\n",
       "      <td>5591572.0</td>\n",
       "      <td>3.271489e+11</td>\n",
       "      <td>Denmark</td>\n",
       "      <td>12.0</td>\n",
       "      <td>0</td>\n",
       "      <td>58507.500210</td>\n",
       "      <td>0.000000</td>\n",
       "      <td>0.116246</td>\n",
       "      <td>0.002683</td>\n",
       "    </tr>\n",
       "  </tbody>\n",
       "</table>\n",
       "</div>"
      ],
      "text/plain": [
       "  Country Name  Average total all civilian firearms  \\\n",
       "0    Australia                            3050000.0   \n",
       "1      Austria                            2500000.0   \n",
       "2      Belgium                            1800000.0   \n",
       "3       Canada                            9950000.0   \n",
       "4      Denmark                             650000.0   \n",
       "\n",
       "   Number of homicides by firearm         pop           gdp    Country  \\\n",
       "0                            30.0  22742475.0  1.543411e+12  Australia   \n",
       "1                            18.0   8429991.0  4.094252e+11    Austria   \n",
       "2                            70.0  11128246.0  4.978842e+11    Belgium   \n",
       "3                           173.0  34750545.0  1.824289e+12     Canada   \n",
       "4                            15.0   5591572.0  3.271489e+11    Denmark   \n",
       "\n",
       "   Guns per 100 inhabitants  Number of mass shootings         gdppp  \\\n",
       "0                      15.0                         4  67864.689862   \n",
       "1                      30.4                         1  48567.695286   \n",
       "2                      17.2                         2  44740.583248   \n",
       "3                      30.8                         4  52496.694870   \n",
       "4                      12.0                         0  58507.500210   \n",
       "\n",
       "   shootingspp  firearmspp  homicidespp  \n",
       "0     1.758824    0.134110     0.001319  \n",
       "1     1.186241    0.296560     0.002135  \n",
       "2     1.797228    0.161751     0.006290  \n",
       "3     1.151061    0.286326     0.004978  \n",
       "4     0.000000    0.116246     0.002683  "
      ]
     },
     "execution_count": 30,
     "metadata": {},
     "output_type": "execute_result"
    }
   ],
   "source": [
    "# remove the USA\n",
    "df_new = df_[~df_['Country Name'].isin([\"United States\", \"New Zealand\"])]\n",
    "df_new.head()"
   ]
  },
  {
   "cell_type": "code",
   "execution_count": 31,
   "metadata": {},
   "outputs": [
    {
     "name": "stderr",
     "output_type": "stream",
     "text": [
      "/usr/local/Anaconda3-5.0.0-Linux-x86_64/envs/PUI2016_Python3/lib/python3.5/site-packages/matplotlib/font_manager.py:1316: UserWarning: findfont: Font family ['sans-serif'] not found. Falling back to DejaVu Sans\n",
      "  (prop.get_family(), self.defaultFamily[fontext]))\n"
     ]
    },
    {
     "data": {
      "image/png": "[encoded data removed]",
      "text/plain": [
       "<matplotlib.figure.Figure at 0x7fdab95882e8>"
      ]
     },
     "metadata": {},
     "output_type": "display_data"
    },
    {
     "name": "stdout",
     "output_type": "stream",
     "text": [
      "Number of mass shootings per person vs average total all civilian firearms per person, remove outliers.\n"
     ]
    }
   ],
   "source": [
    "fig = pl.figure(figsize=(10,5)) \n",
    "ax = fig.add_subplot(111)\n",
    "\n",
    "ax.scatter(df_new['firearmspp'], df_new['shootingspp'])\n",
    "ax.set_xlabel(\"Average total all civilian firearms per person\")\n",
    "ax.set_ylabel(\"Number of mass shootings per person\")\n",
    "ax.set_ylim()\n",
    "pl.show()\n",
    "print(\"Number of mass shootings per person vs average total all civilian firearms per person, remove outliers.\")"
   ]
  },
  {
   "cell_type": "code",
   "execution_count": 32,
   "metadata": {},
   "outputs": [
    {
     "data": {
      "text/html": [
       "<table class=\"simpletable\">\n",
       "<caption>OLS Regression Results</caption>\n",
       "<tr>\n",
       "  <th>Dep. Variable:</th>       <td>shootingspp</td>   <th>  R-squared:         </th> <td>   0.525</td>\n",
       "</tr>\n",
       "<tr>\n",
       "  <th>Model:</th>                   <td>OLS</td>       <th>  Adj. R-squared:    </th> <td>   0.500</td>\n",
       "</tr>\n",
       "<tr>\n",
       "  <th>Method:</th>             <td>Least Squares</td>  <th>  F-statistic:       </th> <td>   21.02</td>\n",
       "</tr>\n",
       "<tr>\n",
       "  <th>Date:</th>             <td>Sun, 11 Nov 2018</td> <th>  Prob (F-statistic):</th> <td>0.000202</td>\n",
       "</tr>\n",
       "<tr>\n",
       "  <th>Time:</th>                 <td>12:08:45</td>     <th>  Log-Likelihood:    </th> <td> -22.679</td>\n",
       "</tr>\n",
       "<tr>\n",
       "  <th>No. Observations:</th>      <td>    21</td>      <th>  AIC:               </th> <td>   49.36</td>\n",
       "</tr>\n",
       "<tr>\n",
       "  <th>Df Residuals:</th>          <td>    19</td>      <th>  BIC:               </th> <td>   51.45</td>\n",
       "</tr>\n",
       "<tr>\n",
       "  <th>Df Model:</th>              <td>     1</td>      <th>                     </th>     <td> </td>   \n",
       "</tr>\n",
       "<tr>\n",
       "  <th>Covariance Type:</th>      <td>nonrobust</td>    <th>                     </th>     <td> </td>   \n",
       "</tr>\n",
       "</table>\n",
       "<table class=\"simpletable\">\n",
       "<tr>\n",
       "       <td></td>         <th>coef</th>     <th>std err</th>      <th>t</th>      <th>P>|t|</th> <th>[95.0% Conf. Int.]</th> \n",
       "</tr>\n",
       "<tr>\n",
       "  <th>const</th>      <td>   -0.2731</td> <td>    0.306</td> <td>   -0.894</td> <td> 0.383</td> <td>   -0.913     0.367</td>\n",
       "</tr>\n",
       "<tr>\n",
       "  <th>firearmspp</th> <td>    6.0230</td> <td>    1.314</td> <td>    4.585</td> <td> 0.000</td> <td>    3.274     8.772</td>\n",
       "</tr>\n",
       "</table>\n",
       "<table class=\"simpletable\">\n",
       "<tr>\n",
       "  <th>Omnibus:</th>       <td> 0.185</td> <th>  Durbin-Watson:     </th> <td>   2.001</td>\n",
       "</tr>\n",
       "<tr>\n",
       "  <th>Prob(Omnibus):</th> <td> 0.911</td> <th>  Jarque-Bera (JB):  </th> <td>   0.379</td>\n",
       "</tr>\n",
       "<tr>\n",
       "  <th>Skew:</th>          <td> 0.141</td> <th>  Prob(JB):          </th> <td>   0.828</td>\n",
       "</tr>\n",
       "<tr>\n",
       "  <th>Kurtosis:</th>      <td> 2.405</td> <th>  Cond. No.          </th> <td>    8.35</td>\n",
       "</tr>\n",
       "</table>"
      ],
      "text/plain": [
       "<class 'statsmodels.iolib.summary.Summary'>\n",
       "\"\"\"\n",
       "                            OLS Regression Results                            \n",
       "==============================================================================\n",
       "Dep. Variable:            shootingspp   R-squared:                       0.525\n",
       "Model:                            OLS   Adj. R-squared:                  0.500\n",
       "Method:                 Least Squares   F-statistic:                     21.02\n",
       "Date:                Sun, 11 Nov 2018   Prob (F-statistic):           0.000202\n",
       "Time:                        12:08:45   Log-Likelihood:                -22.679\n",
       "No. Observations:                  21   AIC:                             49.36\n",
       "Df Residuals:                      19   BIC:                             51.45\n",
       "Df Model:                           1                                         \n",
       "Covariance Type:            nonrobust                                         \n",
       "==============================================================================\n",
       "                 coef    std err          t      P>|t|      [95.0% Conf. Int.]\n",
       "------------------------------------------------------------------------------\n",
       "const         -0.2731      0.306     -0.894      0.383        -0.913     0.367\n",
       "firearmspp     6.0230      1.314      4.585      0.000         3.274     8.772\n",
       "==============================================================================\n",
       "Omnibus:                        0.185   Durbin-Watson:                   2.001\n",
       "Prob(Omnibus):                  0.911   Jarque-Bera (JB):                0.379\n",
       "Skew:                           0.141   Prob(JB):                        0.828\n",
       "Kurtosis:                       2.405   Cond. No.                         8.35\n",
       "==============================================================================\n",
       "\n",
       "Warnings:\n",
       "[1] Standard Errors assume that the covariance matrix of the errors is correctly specified.\n",
       "\"\"\""
      ]
     },
     "execution_count": 32,
     "metadata": {},
     "output_type": "execute_result"
    }
   ],
   "source": [
    "smols = sm.OLS(df_new['shootingspp'], sm.add_constant(df_new['firearmspp'])).fit()\n",
    "smols.summary()"
   ]
  },
  {
   "cell_type": "code",
   "execution_count": 33,
   "metadata": {},
   "outputs": [
    {
     "data": {
      "text/html": [
       "<table class=\"simpletable\">\n",
       "<caption>WLS Regression Results</caption>\n",
       "<tr>\n",
       "  <th>Dep. Variable:</th>       <td>shootingspp</td>   <th>  R-squared:         </th> <td>   0.556</td>\n",
       "</tr>\n",
       "<tr>\n",
       "  <th>Model:</th>                   <td>WLS</td>       <th>  Adj. R-squared:    </th> <td>   0.532</td>\n",
       "</tr>\n",
       "<tr>\n",
       "  <th>Method:</th>             <td>Least Squares</td>  <th>  F-statistic:       </th> <td>   23.76</td>\n",
       "</tr>\n",
       "<tr>\n",
       "  <th>Date:</th>             <td>Sun, 11 Nov 2018</td> <th>  Prob (F-statistic):</th> <td>0.000105</td>\n",
       "</tr>\n",
       "<tr>\n",
       "  <th>Time:</th>                 <td>12:08:45</td>     <th>  Log-Likelihood:    </th> <td> -20.486</td>\n",
       "</tr>\n",
       "<tr>\n",
       "  <th>No. Observations:</th>      <td>    21</td>      <th>  AIC:               </th> <td>   44.97</td>\n",
       "</tr>\n",
       "<tr>\n",
       "  <th>Df Residuals:</th>          <td>    19</td>      <th>  BIC:               </th> <td>   47.06</td>\n",
       "</tr>\n",
       "<tr>\n",
       "  <th>Df Model:</th>              <td>     1</td>      <th>                     </th>     <td> </td>   \n",
       "</tr>\n",
       "<tr>\n",
       "  <th>Covariance Type:</th>      <td>nonrobust</td>    <th>                     </th>     <td> </td>   \n",
       "</tr>\n",
       "</table>\n",
       "<table class=\"simpletable\">\n",
       "<tr>\n",
       "       <td></td>         <th>coef</th>     <th>std err</th>      <th>t</th>      <th>P>|t|</th> <th>[95.0% Conf. Int.]</th> \n",
       "</tr>\n",
       "<tr>\n",
       "  <th>const</th>      <td>   -0.1307</td> <td>    0.194</td> <td>   -0.674</td> <td> 0.509</td> <td>   -0.537     0.275</td>\n",
       "</tr>\n",
       "<tr>\n",
       "  <th>firearmspp</th> <td>    5.3794</td> <td>    1.104</td> <td>    4.874</td> <td> 0.000</td> <td>    3.070     7.689</td>\n",
       "</tr>\n",
       "</table>\n",
       "<table class=\"simpletable\">\n",
       "<tr>\n",
       "  <th>Omnibus:</th>       <td> 0.986</td> <th>  Durbin-Watson:     </th> <td>   1.918</td>\n",
       "</tr>\n",
       "<tr>\n",
       "  <th>Prob(Omnibus):</th> <td> 0.611</td> <th>  Jarque-Bera (JB):  </th> <td>   0.901</td>\n",
       "</tr>\n",
       "<tr>\n",
       "  <th>Skew:</th>          <td> 0.308</td> <th>  Prob(JB):          </th> <td>   0.637</td>\n",
       "</tr>\n",
       "<tr>\n",
       "  <th>Kurtosis:</th>      <td> 2.195</td> <th>  Cond. No.          </th> <td>    8.37</td>\n",
       "</tr>\n",
       "</table>"
      ],
      "text/plain": [
       "<class 'statsmodels.iolib.summary.Summary'>\n",
       "\"\"\"\n",
       "                            WLS Regression Results                            \n",
       "==============================================================================\n",
       "Dep. Variable:            shootingspp   R-squared:                       0.556\n",
       "Model:                            WLS   Adj. R-squared:                  0.532\n",
       "Method:                 Least Squares   F-statistic:                     23.76\n",
       "Date:                Sun, 11 Nov 2018   Prob (F-statistic):           0.000105\n",
       "Time:                        12:08:45   Log-Likelihood:                -20.486\n",
       "No. Observations:                  21   AIC:                             44.97\n",
       "Df Residuals:                      19   BIC:                             47.06\n",
       "Df Model:                           1                                         \n",
       "Covariance Type:            nonrobust                                         \n",
       "==============================================================================\n",
       "                 coef    std err          t      P>|t|      [95.0% Conf. Int.]\n",
       "------------------------------------------------------------------------------\n",
       "const         -0.1307      0.194     -0.674      0.509        -0.537     0.275\n",
       "firearmspp     5.3794      1.104      4.874      0.000         3.070     7.689\n",
       "==============================================================================\n",
       "Omnibus:                        0.986   Durbin-Watson:                   1.918\n",
       "Prob(Omnibus):                  0.611   Jarque-Bera (JB):                0.901\n",
       "Skew:                           0.308   Prob(JB):                        0.637\n",
       "Kurtosis:                       2.195   Cond. No.                         8.37\n",
       "==============================================================================\n",
       "\n",
       "Warnings:\n",
       "[1] Standard Errors assume that the covariance matrix of the errors is correctly specified.\n",
       "\"\"\""
      ]
     },
     "execution_count": 33,
     "metadata": {},
     "output_type": "execute_result"
    }
   ],
   "source": [
    "# use a very small number to avoid 1/0\n",
    "smwls = sm.WLS(df_new['shootingspp'], sm.add_constant(df_new['firearmspp']), \n",
    "               weights=[1/(sqrt(xx) + 1e-10) for xx in df_new['firearmspp']]).fit()\n",
    "smwls.summary()"
   ]
  },
  {
   "cell_type": "code",
   "execution_count": 34,
   "metadata": {},
   "outputs": [],
   "source": [
    "coeff, inter = np.polyfit(y=df_new['shootingspp'], x=df_new['firearmspp'], deg=1)"
   ]
  },
  {
   "cell_type": "code",
   "execution_count": 35,
   "metadata": {},
   "outputs": [
    {
     "name": "stderr",
     "output_type": "stream",
     "text": [
      "/usr/local/Anaconda3-5.0.0-Linux-x86_64/envs/PUI2016_Python3/lib/python3.5/site-packages/matplotlib/font_manager.py:1316: UserWarning: findfont: Font family ['sans-serif'] not found. Falling back to DejaVu Sans\n",
      "  (prop.get_family(), self.defaultFamily[fontext]))\n"
     ]
    },
    {
     "data": {
      "image/png": "[encoded data removed]",
      "text/plain": [
       "<matplotlib.figure.Figure at 0x7fdab94f6ef0>"
      ]
     },
     "metadata": {},
     "output_type": "display_data"
    },
    {
     "name": "stdout",
     "output_type": "stream",
     "text": [
      "Number of mass shootings per person vs average total all civilian firearms per person (outliers removed), errors represent Poisson statistics.\n",
      "Also the OLS, WLS, seaborn and Numpy Poly fit line.\n"
     ]
    }
   ],
   "source": [
    "fig = pl.figure(figsize=(10,5)) \n",
    "ax = fig.add_subplot(111)\n",
    "\n",
    "sns.regplot(y='shootingspp', x='firearmspp', data=df_new, ax=ax, color=\"purple\", label=\"sns\")\n",
    "ax.scatter(df_new['firearmspp'], df_new['shootingspp'], label=\"y\")\n",
    "ax.plot(df_new['firearmspp'], smols.predict(sm.add_constant(df_new['firearmspp'])), label=\"OLS fit\", color=\"black\")\n",
    "ax.plot(df_new['firearmspp'], smwls.predict(sm.add_constant(df_new['firearmspp'])), label=\"WLS fit\", color=\"red\")\n",
    "ax.plot(df_new['firearmspp'], coeff * df_new['firearmspp'] + inter, label=\"Numpy Poly fit\", color=\"Green\")\n",
    "ax.errorbar(df_new['firearmspp'], df_new['shootingspp'], yerr = np.sqrt(df_new['shootingspp'] * 1.0), \n",
    "            fmt = '.', label='yerr')\n",
    "ax.set_xlabel(\"Average total all civilian firearms per person\")\n",
    "ax.set_ylabel(\"Number of mass shootings per person\")\n",
    "ax.legend()\n",
    "ax.set_ylim()\n",
    "pl.show()\n",
    "print(\"Number of mass shootings per person vs average total all civilian firearms per person (outliers removed), \" + \n",
    "      \"errors represent Poisson statistics.\\n\" + \n",
    "      \"Also the OLS, WLS, seaborn and Numpy Poly fit line.\")"
   ]
  },
  {
   "cell_type": "markdown",
   "metadata": {},
   "source": [
    "# When outliers removed, the fitting results are obviously improved"
   ]
  },
  {
   "cell_type": "markdown",
   "metadata": {
    "ExecuteTime": {
     "end_time": "2017-10-12T16:21:08.019663",
     "start_time": "2017-10-12T16:21:08.010876"
    },
    "run_control": {
     "frozen": false,
     "read_only": false
    }
   },
   "source": [
    "## Extra credit: calculate the confidence interval by hand and also plot them \n",
    "you can use pylab.fill_between(x, yfit - ci, yfit + ci, alpha=0.5)"
   ]
  },
  {
   "cell_type": "markdown",
   "metadata": {
    "run_control": {
     "frozen": false,
     "read_only": false
    }
   },
   "source": [
    "**Confidence intervals: **\n",
    "there are three type of intervals in a linear regression, plot any one of them all three if you want - how do they compare to the seaborn plot?:\n",
    "\n",
    "1) Confidence intervals for the parameters slope and intercept\n",
    "\n",
    "2) Confidence interval for the average y value\n",
    "\n",
    "3) Prediction interval for a single y value"
   ]
  },
  {
   "cell_type": "markdown",
   "metadata": {
    "run_control": {
     "frozen": false,
     "read_only": false
    }
   },
   "source": [
    "1) __confidence interval of the  model parameters slope and intercept:__\n",
    "define sigma as the sum of the residuals over the square root of number n of observations. \n",
    "\n",
    "sigma: σ̂ =sqrt(Sum((Yoberved_i−Ypredicted_i)^2)/n)\n",
    "\n",
    "where the sum is over all observations\n",
    "\n",
    "Define t_alpha/2,n-2 the t statistics at (1-alpha/2) for a t distribution with n-2 degrees of freedom (you can calculate it with scipy\n",
    "tp = sp.stats.t.ppf(0.975, n-2)\n",
    "\n"
   ]
  },
  {
   "cell_type": "markdown",
   "metadata": {
    "run_control": {
     "frozen": false,
     "read_only": false
    }
   },
   "source": [
    "2) **A confidence interval for E(y | x) , the expected (average) value of y for a given x_**\n",
    "\n",
    "define s: residual standard error sy = sqrt(Sum((y_observed-y_predicted)^2)/(n-2))\n",
    "\n",
    "(note: n-2 is the degrees of freedom of the problem: observations - number of parameters - 1)\n",
    "\n",
    "the confidence interval for a given y(x*) is: \n",
    "\n",
    "y_predicted(x*) +/- t_(alpha/2)(n-2) * sy * sqrt( 1/n + (x* - mean(x)^2) / sum((x* - mean(x)^2)"
   ]
  },
  {
   "cell_type": "markdown",
   "metadata": {
    "run_control": {
     "frozen": false,
     "read_only": false
    }
   },
   "source": [
    "3) **Confidence intervals for average y (predicted) values**\n",
    "\n",
    "y_predicted(x*) +/- t_(n-2) * sy * sqrt( 1 + 1/n + (x* - mean(x)^2) / sum((x* - mean(x)^2)\n",
    "\n",
    "very similar, but note the +1 in the square root"
   ]
  },
  {
   "cell_type": "code",
   "execution_count": 36,
   "metadata": {
    "ExecuteTime": {
     "end_time": "2017-10-12T16:36:39.238967",
     "start_time": "2017-10-12T16:36:38.688004"
    },
    "run_control": {
     "frozen": false,
     "read_only": false
    }
   },
   "outputs": [
    {
     "name": "stderr",
     "output_type": "stream",
     "text": [
      "/usr/local/Anaconda3-5.0.0-Linux-x86_64/envs/PUI2016_Python3/lib/python3.5/site-packages/ipykernel/__main__.py:4: SettingWithCopyWarning: \n",
      "A value is trying to be set on a copy of a slice from a DataFrame\n",
      "\n",
      "See the caveats in the documentation: http://pandas.pydata.org/pandas-docs/stable/indexing.html#indexing-view-versus-copy\n",
      "/usr/local/Anaconda3-5.0.0-Linux-x86_64/envs/PUI2016_Python3/lib/python3.5/site-packages/matplotlib/font_manager.py:1316: UserWarning: findfont: Font family ['sans-serif'] not found. Falling back to DejaVu Sans\n",
      "  (prop.get_family(), self.defaultFamily[fontext]))\n"
     ]
    },
    {
     "data": {
      "image/png": "[encoded data removed]",
      "text/plain": [
       "<matplotlib.figure.Figure at 0x7fdab950c208>"
      ]
     },
     "metadata": {},
     "output_type": "display_data"
    },
    {
     "name": "stdout",
     "output_type": "stream",
     "text": [
      "Number of mass shootings per person vs average total all civilian firearms per person (outliers removed), errors represent Poisson statistics.\n",
      "Also the confidence intervals of y_hat by seaborn and hand.\n"
     ]
    }
   ],
   "source": [
    "fig = pl.figure(figsize=(10,5)) \n",
    "ax = fig.add_subplot(111)\n",
    "\n",
    "df_new.sort_values(\"firearmspp\", inplace=True)\n",
    "sns.regplot(y='shootingspp', x='firearmspp', data=df_new, ax=ax, color=\"purple\", label=\"sns\")\n",
    "ax.scatter(df_new['firearmspp'], df_new['shootingspp'], label=\"y\")\n",
    "y_hat = coeff * df_new['firearmspp'] + inter\n",
    "sy = sqrt((df_new['shootingspp'] - y_hat) ** 2 / (len(df_new['firearmspp']) - 2))\n",
    "ci = sqrt(1 + 1/len(df_new['firearmspp']) + (df_new['firearmspp'] - df_new['firearmspp'].mean() ** 2) / \n",
    "          (df_new['firearmspp'] - df_new['firearmspp'].mean() ** 2).sum())\n",
    "ax.fill_between(df_new['firearmspp'], y_hat - sy * ci, y_hat + sy * ci, alpha=0.5, label=\"hand\", color=\"Red\")\n",
    "ax.set_xlabel(\"Average total all civilian firearms per person\")\n",
    "ax.set_ylabel(\"Number of mass shootings per person\")\n",
    "ax.legend()\n",
    "ax.set_ylim()\n",
    "pl.show()\n",
    "print(\"Number of mass shootings per person vs average total all civilian firearms per person (outliers removed), \" + \n",
    "      \"errors represent Poisson statistics.\\n\" + \n",
    "      \"Also the confidence intervals of y_hat by seaborn and hand.\")"
   ]
  },
  {
   "cell_type": "markdown",
   "metadata": {
    "run_control": {
     "frozen": false,
     "read_only": false
    }
   },
   "source": [
    "## Use the stsatsmodels.gaphics package to plot the influence plot. \n",
    "Read the package documentation to learn how to read this plot and extract the countries with the highest influence\n",
    "\n",
    "This is the topic of this week's assigned reading, so make sure you do the reading before you do this step. It will help you interpret the plot."
   ]
  },
  {
   "cell_type": "code",
   "execution_count": 37,
   "metadata": {
    "ExecuteTime": {
     "end_time": "2017-10-11T07:46:21.766085",
     "start_time": "2017-10-11T07:46:21.412498"
    },
    "run_control": {
     "frozen": false,
     "read_only": false
    }
   },
   "outputs": [
    {
     "name": "stderr",
     "output_type": "stream",
     "text": [
      "/usr/local/Anaconda3-5.0.0-Linux-x86_64/envs/PUI2016_Python3/lib/python3.5/site-packages/matplotlib/font_manager.py:1316: UserWarning: findfont: Font family ['sans-serif'] not found. Falling back to DejaVu Sans\n",
      "  (prop.get_family(), self.defaultFamily[fontext]))\n"
     ]
    },
    {
     "data": {
      "image/png": "[encoded data removed]",
      "text/plain": [
       "<matplotlib.figure.Figure at 0x7fdab6756e80>"
      ]
     },
     "metadata": {},
     "output_type": "display_data"
    }
   ],
   "source": [
    "fig = pl.figure(figsize=(10,5)) \n",
    "ax = fig.add_subplot(111)\n",
    "\n",
    "smols = sm.OLS(df_['shootingspp'], sm.add_constant(df_['firearmspp'])).fit()\n",
    "sm.graphics.influence_plot(smols, alpha=0.05, criterion=\"cooks\", ax=ax)\n",
    "pl.show()"
   ]
  },
  {
   "cell_type": "markdown",
   "metadata": {
    "run_control": {
     "frozen": false,
     "read_only": false
    }
   },
   "source": [
    "## Extra credit: calculate from scratch the stanrdardized residuals and the H leverage for the WLS model and discuss if there are any differences"
   ]
  },
  {
   "cell_type": "code",
   "execution_count": 38,
   "metadata": {},
   "outputs": [
    {
     "name": "stderr",
     "output_type": "stream",
     "text": [
      "/usr/local/Anaconda3-5.0.0-Linux-x86_64/envs/PUI2016_Python3/lib/python3.5/site-packages/matplotlib/font_manager.py:1316: UserWarning: findfont: Font family ['sans-serif'] not found. Falling back to DejaVu Sans\n",
      "  (prop.get_family(), self.defaultFamily[fontext]))\n"
     ]
    },
    {
     "data": {
      "image/png": "[encoded data removed]",
      "text/plain": [
       "<matplotlib.figure.Figure at 0x7fdab95dc128>"
      ]
     },
     "metadata": {},
     "output_type": "display_data"
    }
   ],
   "source": [
    "fig = pl.figure(figsize=(10,5)) \n",
    "ax = fig.add_subplot(111)\n",
    "\n",
    "smwls = sm.WLS(df_['shootingspp'], sm.add_constant(df_['firearmspp']), \n",
    "               weights=[1/(sqrt(xx) + 1e-10) for xx in df_['firearmspp']]).fit()\n",
    "ax.scatter(x=smwls.fittedvalues, y=smwls.resid_pearson, s=smwls.resid_pearson * 500, alpha=0.75)\n",
    "for i, txt in enumerate(df_.index):\n",
    "    ax.annotate(txt, (smwls.fittedvalues[i], smwls.resid_pearson[i]))\n",
    "ax.set_title(\"Influence Plot\", fontsize=15)\n",
    "ax.set_xlabel(\"H Leverage\", fontsize=15)\n",
    "ax.set_ylabel(\"Stanrdardized Residuals\", fontsize=15)\n",
    "ax.set_ylim()\n",
    "pl.show()"
   ]
  },
  {
   "cell_type": "markdown",
   "metadata": {},
   "source": [
    "## Discuss your findings"
   ]
  },
  {
   "cell_type": "markdown",
   "metadata": {
    "run_control": {
     "frozen": false,
     "read_only": false
    }
   },
   "source": [
    "## The USA is no longer a high leverage point in WLS, which means its influence on the fitting of overall data is lower. However, New Zealand is still an outlier."
   ]
  },
  {
   "cell_type": "code",
   "execution_count": null,
   "metadata": {},
   "outputs": [],
   "source": []
  }
 ],
 "metadata": {
  "anaconda-cloud": {},
  "kernelspec": {
   "display_name": "PUI2016_Python3",
   "language": "python",
   "name": "pui2016_python3"
  },
  "language_info": {
   "codemirror_mode": {
    "name": "ipython",
    "version": 3
   },
   "file_extension": ".py",
   "mimetype": "text/x-python",
   "name": "python",
   "nbconvert_exporter": "python",
   "pygments_lexer": "ipython3",
   "version": "3.5.4"
  },
  "latex_envs": {
   "LaTeX_envs_menu_present": true,
   "bibliofile": "biblio.bib",
   "cite_by": "apalike",
   "current_citInitial": 1,
   "eqLabelWithNumbers": true,
   "eqNumInitial": 1,
   "hotkeys": {
    "equation": "Ctrl-E",
    "itemize": "Ctrl-I"
   },
   "labels_anchors": false,
   "latex_user_defs": false,
   "report_style_numbering": false,
   "user_envs_cfg": false
  },
  "toc": {
   "colors": {
    "hover_highlight": "#DAA520",
    "running_highlight": "#FF0000",
    "selected_highlight": "#FFD700"
   },
   "moveMenuLeft": true,
   "nav_menu": {
    "height": "13px",
    "width": "251px"
   },
   "navigate_menu": true,
   "number_sections": true,
   "sideBar": true,
   "threshold": 4,
   "toc_cell": true,
   "toc_section_display": "block",
   "toc_window_display": true
  }
 },
 "nbformat": 4,
 "nbformat_minor": 1
}
