{
 "cells": [
  {
   "cell_type": "markdown",
   "metadata": {
    "run_control": {
     "frozen": false,
     "read_only": false
    }
   },
   "source": [
    "**exercises with statsmodels OLS and WLS**\n",
    "*created by fbb November 2018*\n",
    "*, completed by Junru Lu*"
   ]
  },
  {
   "cell_type": "code",
   "execution_count": 1,
   "metadata": {
    "ExecuteTime": {
     "end_time": "2018-11-08T18:05:35.078740Z",
     "start_time": "2018-11-08T18:05:35.037891Z"
    },
    "run_control": {
     "frozen": false,
     "read_only": false
    }
   },
   "outputs": [
    {
     "name": "stdout",
     "output_type": "stream",
     "text": [
      "Populating the interactive namespace from numpy and matplotlib\n"
     ]
    }
   ],
   "source": [
    "from __future__ import print_function, division\n",
    "import pylab as pl\n",
    "\n",
    "import statsmodels.api as sm\n",
    "import statsmodels.formula.api as smf\n",
    "\n",
    "%pylab inline"
   ]
  },
  {
   "cell_type": "code",
   "execution_count": 2,
   "metadata": {
    "ExecuteTime": {
     "end_time": "2018-11-08T18:05:35.950830Z",
     "start_time": "2018-11-08T18:05:35.933414Z"
    },
    "run_control": {
     "frozen": false,
     "read_only": false
    }
   },
   "outputs": [],
   "source": [
    "def errors(x):\n",
    "    return np.sqrt(x)\n",
    "    \n",
    "\n",
    "def line(a, x, b=0, errors=None):\n",
    "    '''\n",
    "    creates a line from parameters and exogenous variable\n",
    "    a: slope\n",
    "    x: exogenous variable\n",
    "    b: intercept - default 0\n",
    "    errors: add uncertainties (sqrt(N) - default True)\n",
    "    '''\n",
    "    np.random.randn(123)\n",
    "    if errors is None:\n",
    "        return a*x + b \n",
    "    else:\n",
    "        return a*x + b + np.random.randn(len(x)) * errors(x)\n",
    "    \n"
   ]
  },
  {
   "cell_type": "markdown",
   "metadata": {
    "run_control": {
     "frozen": false,
     "read_only": false
    }
   },
   "source": [
    "# 1. create a line with a chosen slope and intercept = 0 and plot it with uncertainties as errorbars\n",
    "\n",
    "use the functions created above"
   ]
  },
  {
   "cell_type": "code",
   "execution_count": 3,
   "metadata": {},
   "outputs": [
    {
     "data": {
      "text/plain": [
       "<matplotlib.text.Text at 0x7f2fe30976d0>"
      ]
     },
     "execution_count": 3,
     "metadata": {},
     "output_type": "execute_result"
    },
    {
     "data": {
      "image/png": "[encoded data removed]",
      "text/plain": [
       "<matplotlib.figure.Figure at 0x7f2fe33bfd10>"
      ]
     },
     "metadata": {},
     "output_type": "display_data"
    }
   ],
   "source": [
    "slope = 0.9\n",
    "intercept = 0\n",
    "x = np.linspace(10, 100, 10)\n",
    "y = line(slope, x, b=intercept, errors=errors)\n",
    "plt.figure(figsize=(10, 8))\n",
    "plt.errorbar(x, y, yerr=[errors(xx) for xx in x], linestyle=\"None\", fmt='.')\n",
    "plt.title(\"Y = %s * x + %s with uncertainties\"%(slope, intercept))\n",
    "plt.xlabel(\"exogenous\", fontsize=12)\n",
    "plt.ylabel(\"endogenous\", fontsize=12)"
   ]
  },
  {
   "cell_type": "markdown",
   "metadata": {
    "run_control": {
     "frozen": false,
     "read_only": false
    }
   },
   "source": [
    "# 2. print y, x, and the result of applying statsmodels.api.add_constant() to x"
   ]
  },
  {
   "cell_type": "code",
   "execution_count": 4,
   "metadata": {},
   "outputs": [
    {
     "name": "stdout",
     "output_type": "stream",
     "text": [
      "[ 10.69559956  21.5715972   22.5307905   31.00379026  48.11688474\n",
      "  41.03152219  48.27954521  62.2796671   75.17246824  98.27032817]\n"
     ]
    }
   ],
   "source": [
    "print(y)"
   ]
  },
  {
   "cell_type": "code",
   "execution_count": 5,
   "metadata": {},
   "outputs": [
    {
     "name": "stdout",
     "output_type": "stream",
     "text": [
      "[  10.   20.   30.   40.   50.   60.   70.   80.   90.  100.]\n"
     ]
    }
   ],
   "source": [
    "print(x)"
   ]
  },
  {
   "cell_type": "code",
   "execution_count": 6,
   "metadata": {},
   "outputs": [
    {
     "data": {
      "text/plain": [
       "array([[   1.,   10.],\n",
       "       [   1.,   20.],\n",
       "       [   1.,   30.],\n",
       "       [   1.,   40.],\n",
       "       [   1.,   50.],\n",
       "       [   1.,   60.],\n",
       "       [   1.,   70.],\n",
       "       [   1.,   80.],\n",
       "       [   1.,   90.],\n",
       "       [   1.,  100.]])"
      ]
     },
     "execution_count": 6,
     "metadata": {},
     "output_type": "execute_result"
    }
   ],
   "source": [
    "sm.add_constant(x)"
   ]
  },
  {
   "cell_type": "markdown",
   "metadata": {
    "run_control": {
     "frozen": false,
     "read_only": false
    }
   },
   "source": [
    "# 3. use statsmodels.api.OLS to fit x and y \n",
    "- a. *the wrong way*: by passing x as exogenous variable\n",
    "- b. *the right way*: by passing statsmodels.api.add_constant(x) as exogenous variable\n",
    "\n",
    "# and print the model summary for each and discuss the differences"
   ]
  },
  {
   "cell_type": "code",
   "execution_count": 7,
   "metadata": {
    "ExecuteTime": {
     "end_time": "2018-11-08T17:14:00.771892Z",
     "start_time": "2018-11-08T17:14:00.720962Z"
    },
    "run_control": {
     "frozen": false,
     "read_only": false
    }
   },
   "outputs": [
    {
     "name": "stderr",
     "output_type": "stream",
     "text": [
      "/usr/local/Anaconda3-5.0.0-Linux-x86_64/envs/PUI2016_Python2/lib/python2.7/site-packages/scipy/stats/stats.py:1326: UserWarning: kurtosistest only valid for n>=20 ... continuing anyway, n=10\n",
      "  \"anyway, n=%i\" % int(n))\n"
     ]
    },
    {
     "data": {
      "text/html": [
       "<table class=\"simpletable\">\n",
       "<caption>OLS Regression Results</caption>\n",
       "<tr>\n",
       "  <th>Dep. Variable:</th>            <td>y</td>        <th>  R-squared:         </th> <td>   0.982</td>\n",
       "</tr>\n",
       "<tr>\n",
       "  <th>Model:</th>                   <td>OLS</td>       <th>  Adj. R-squared:    </th> <td>   0.980</td>\n",
       "</tr>\n",
       "<tr>\n",
       "  <th>Method:</th>             <td>Least Squares</td>  <th>  F-statistic:       </th> <td>   481.6</td>\n",
       "</tr>\n",
       "<tr>\n",
       "  <th>Date:</th>             <td>Sat, 10 Nov 2018</td> <th>  Prob (F-statistic):</th> <td>4.00e-09</td>\n",
       "</tr>\n",
       "<tr>\n",
       "  <th>Time:</th>                 <td>16:08:20</td>     <th>  Log-Likelihood:    </th> <td> -33.806</td>\n",
       "</tr>\n",
       "<tr>\n",
       "  <th>No. Observations:</th>      <td>    10</td>      <th>  AIC:               </th> <td>   69.61</td>\n",
       "</tr>\n",
       "<tr>\n",
       "  <th>Df Residuals:</th>          <td>     9</td>      <th>  BIC:               </th> <td>   69.91</td>\n",
       "</tr>\n",
       "<tr>\n",
       "  <th>Df Model:</th>              <td>     1</td>      <th>                     </th>     <td> </td>   \n",
       "</tr>\n",
       "<tr>\n",
       "  <th>Covariance Type:</th>      <td>nonrobust</td>    <th>                     </th>     <td> </td>   \n",
       "</tr>\n",
       "</table>\n",
       "<table class=\"simpletable\">\n",
       "<tr>\n",
       "   <td></td>     <th>coef</th>     <th>std err</th>      <th>t</th>      <th>P>|t|</th> <th>[95.0% Conf. Int.]</th> \n",
       "</tr>\n",
       "<tr>\n",
       "  <th>x1</th> <td>    0.8384</td> <td>    0.038</td> <td>   21.945</td> <td> 0.000</td> <td>    0.752     0.925</td>\n",
       "</tr>\n",
       "</table>\n",
       "<table class=\"simpletable\">\n",
       "<tr>\n",
       "  <th>Omnibus:</th>       <td> 0.807</td> <th>  Durbin-Watson:     </th> <td>   1.278</td>\n",
       "</tr>\n",
       "<tr>\n",
       "  <th>Prob(Omnibus):</th> <td> 0.668</td> <th>  Jarque-Bera (JB):  </th> <td>   0.408</td>\n",
       "</tr>\n",
       "<tr>\n",
       "  <th>Skew:</th>          <td> 0.453</td> <th>  Prob(JB):          </th> <td>   0.815</td>\n",
       "</tr>\n",
       "<tr>\n",
       "  <th>Kurtosis:</th>      <td> 2.602</td> <th>  Cond. No.          </th> <td>    1.00</td>\n",
       "</tr>\n",
       "</table>"
      ],
      "text/plain": [
       "<class 'statsmodels.iolib.summary.Summary'>\n",
       "\"\"\"\n",
       "                            OLS Regression Results                            \n",
       "==============================================================================\n",
       "Dep. Variable:                      y   R-squared:                       0.982\n",
       "Model:                            OLS   Adj. R-squared:                  0.980\n",
       "Method:                 Least Squares   F-statistic:                     481.6\n",
       "Date:                Sat, 10 Nov 2018   Prob (F-statistic):           4.00e-09\n",
       "Time:                        16:08:20   Log-Likelihood:                -33.806\n",
       "No. Observations:                  10   AIC:                             69.61\n",
       "Df Residuals:                       9   BIC:                             69.91\n",
       "Df Model:                           1                                         \n",
       "Covariance Type:            nonrobust                                         \n",
       "==============================================================================\n",
       "                 coef    std err          t      P>|t|      [95.0% Conf. Int.]\n",
       "------------------------------------------------------------------------------\n",
       "x1             0.8384      0.038     21.945      0.000         0.752     0.925\n",
       "==============================================================================\n",
       "Omnibus:                        0.807   Durbin-Watson:                   1.278\n",
       "Prob(Omnibus):                  0.668   Jarque-Bera (JB):                0.408\n",
       "Skew:                           0.453   Prob(JB):                        0.815\n",
       "Kurtosis:                       2.602   Cond. No.                         1.00\n",
       "==============================================================================\n",
       "\n",
       "Warnings:\n",
       "[1] Standard Errors assume that the covariance matrix of the errors is correctly specified.\n",
       "\"\"\""
      ]
     },
     "execution_count": 7,
     "metadata": {},
     "output_type": "execute_result"
    }
   ],
   "source": [
    "#THE WRONG WAY\n",
    "smfit_wrong = smf.OLS(y, x).fit()\n",
    "smfit_wrong.summary()"
   ]
  },
  {
   "cell_type": "code",
   "execution_count": 8,
   "metadata": {
    "ExecuteTime": {
     "end_time": "2018-11-08T17:14:00.812856Z",
     "start_time": "2018-11-08T17:14:00.775233Z"
    },
    "run_control": {
     "frozen": false,
     "read_only": false
    }
   },
   "outputs": [
    {
     "data": {
      "text/html": [
       "<table class=\"simpletable\">\n",
       "<caption>OLS Regression Results</caption>\n",
       "<tr>\n",
       "  <th>Dep. Variable:</th>            <td>y</td>        <th>  R-squared:         </th> <td>   0.923</td>\n",
       "</tr>\n",
       "<tr>\n",
       "  <th>Model:</th>                   <td>OLS</td>       <th>  Adj. R-squared:    </th> <td>   0.913</td>\n",
       "</tr>\n",
       "<tr>\n",
       "  <th>Method:</th>             <td>Least Squares</td>  <th>  F-statistic:       </th> <td>   95.29</td>\n",
       "</tr>\n",
       "<tr>\n",
       "  <th>Date:</th>             <td>Sat, 10 Nov 2018</td> <th>  Prob (F-statistic):</th> <td>1.02e-05</td>\n",
       "</tr>\n",
       "<tr>\n",
       "  <th>Time:</th>                 <td>16:08:24</td>     <th>  Log-Likelihood:    </th> <td> -33.785</td>\n",
       "</tr>\n",
       "<tr>\n",
       "  <th>No. Observations:</th>      <td>    10</td>      <th>  AIC:               </th> <td>   71.57</td>\n",
       "</tr>\n",
       "<tr>\n",
       "  <th>Df Residuals:</th>          <td>     8</td>      <th>  BIC:               </th> <td>   72.18</td>\n",
       "</tr>\n",
       "<tr>\n",
       "  <th>Df Model:</th>              <td>     1</td>      <th>                     </th>     <td> </td>   \n",
       "</tr>\n",
       "<tr>\n",
       "  <th>Covariance Type:</th>      <td>nonrobust</td>    <th>                     </th>     <td> </td>   \n",
       "</tr>\n",
       "</table>\n",
       "<table class=\"simpletable\">\n",
       "<tr>\n",
       "    <td></td>       <th>coef</th>     <th>std err</th>      <th>t</th>      <th>P>|t|</th> <th>[95.0% Conf. Int.]</th> \n",
       "</tr>\n",
       "<tr>\n",
       "  <th>const</th> <td>   -1.0003</td> <td>    5.420</td> <td>   -0.185</td> <td> 0.858</td> <td>  -13.498    11.498</td>\n",
       "</tr>\n",
       "<tr>\n",
       "  <th>x1</th>    <td>    0.8526</td> <td>    0.087</td> <td>    9.762</td> <td> 0.000</td> <td>    0.651     1.054</td>\n",
       "</tr>\n",
       "</table>\n",
       "<table class=\"simpletable\">\n",
       "<tr>\n",
       "  <th>Omnibus:</th>       <td> 0.367</td> <th>  Durbin-Watson:     </th> <td>   1.277</td>\n",
       "</tr>\n",
       "<tr>\n",
       "  <th>Prob(Omnibus):</th> <td> 0.833</td> <th>  Jarque-Bera (JB):  </th> <td>   0.342</td>\n",
       "</tr>\n",
       "<tr>\n",
       "  <th>Skew:</th>          <td> 0.335</td> <th>  Prob(JB):          </th> <td>   0.843</td>\n",
       "</tr>\n",
       "<tr>\n",
       "  <th>Kurtosis:</th>      <td> 2.389</td> <th>  Cond. No.          </th> <td>    134.</td>\n",
       "</tr>\n",
       "</table>"
      ],
      "text/plain": [
       "<class 'statsmodels.iolib.summary.Summary'>\n",
       "\"\"\"\n",
       "                            OLS Regression Results                            \n",
       "==============================================================================\n",
       "Dep. Variable:                      y   R-squared:                       0.923\n",
       "Model:                            OLS   Adj. R-squared:                  0.913\n",
       "Method:                 Least Squares   F-statistic:                     95.29\n",
       "Date:                Sat, 10 Nov 2018   Prob (F-statistic):           1.02e-05\n",
       "Time:                        16:08:24   Log-Likelihood:                -33.785\n",
       "No. Observations:                  10   AIC:                             71.57\n",
       "Df Residuals:                       8   BIC:                             72.18\n",
       "Df Model:                           1                                         \n",
       "Covariance Type:            nonrobust                                         \n",
       "==============================================================================\n",
       "                 coef    std err          t      P>|t|      [95.0% Conf. Int.]\n",
       "------------------------------------------------------------------------------\n",
       "const         -1.0003      5.420     -0.185      0.858       -13.498    11.498\n",
       "x1             0.8526      0.087      9.762      0.000         0.651     1.054\n",
       "==============================================================================\n",
       "Omnibus:                        0.367   Durbin-Watson:                   1.277\n",
       "Prob(Omnibus):                  0.833   Jarque-Bera (JB):                0.342\n",
       "Skew:                           0.335   Prob(JB):                        0.843\n",
       "Kurtosis:                       2.389   Cond. No.                         134.\n",
       "==============================================================================\n",
       "\n",
       "Warnings:\n",
       "[1] Standard Errors assume that the covariance matrix of the errors is correctly specified.\n",
       "\"\"\""
      ]
     },
     "execution_count": 8,
     "metadata": {},
     "output_type": "execute_result"
    }
   ],
   "source": [
    "#THE RIGHT WAY\n",
    "smfit_right = smf.OLS(y, sm.add_constant(x)).fit()\n",
    "smfit_right.summary()"
   ]
  },
  {
   "cell_type": "markdown",
   "metadata": {},
   "source": [
    "# Difference: The R-suqared dropped from the wrong way to the right way. The right way fit an intercept to help fit the line, which means part of Y was explained by the intercept other than X."
   ]
  },
  {
   "cell_type": "markdown",
   "metadata": {
    "run_control": {
     "frozen": false,
     "read_only": false
    }
   },
   "source": [
    "# 4. plot the data (as points) and both statsmodels fits"
   ]
  },
  {
   "cell_type": "code",
   "execution_count": 9,
   "metadata": {},
   "outputs": [
    {
     "data": {
      "text/plain": [
       "<matplotlib.text.Text at 0x7f2fdf080850>"
      ]
     },
     "execution_count": 9,
     "metadata": {},
     "output_type": "execute_result"
    },
    {
     "data": {
      "image/png": "[encoded data removed]",
      "text/plain": [
       "<matplotlib.figure.Figure at 0x7f2fdf06b9d0>"
      ]
     },
     "metadata": {},
     "output_type": "display_data"
    }
   ],
   "source": [
    "plt.figure(figsize=(10, 8))\n",
    "plt.errorbar(x, y, yerr=[errors(xx) for xx in x], linestyle=\"None\", fmt='.', \n",
    "             label=\"Y = %s * x + %s with uncertainties\"%(slope, intercept))\n",
    "plt.plot(x, smfit_wrong.predict(x), label=\"fit to line without add_constant\")\n",
    "plt.plot(x, smfit_right.predict(sm.add_constant(x)), label=\"fit to line with add_constant\")\n",
    "plt.legend(loc=\"upper left\")\n",
    "plt.xlabel(\"exogenous\", fontsize=12)\n",
    "plt.ylabel(\"endogenous\", fontsize=12)"
   ]
  },
  {
   "cell_type": "markdown",
   "metadata": {
    "run_control": {
     "frozen": false,
     "read_only": false
    }
   },
   "source": [
    "# 5. create a line with a chosen slope and a chosen intercept >=100*slope and plot it with uncertainties as errorbars"
   ]
  },
  {
   "cell_type": "code",
   "execution_count": 10,
   "metadata": {},
   "outputs": [
    {
     "data": {
      "text/plain": [
       "<matplotlib.text.Text at 0x7f2fdf001b50>"
      ]
     },
     "execution_count": 10,
     "metadata": {},
     "output_type": "execute_result"
    },
    {
     "data": {
      "image/png": "[encoded data removed]",
      "text/plain": [
       "<matplotlib.figure.Figure at 0x7f2fdf06b850>"
      ]
     },
     "metadata": {},
     "output_type": "display_data"
    }
   ],
   "source": [
    "intercept = 101 * slope\n",
    "x = np.linspace(10, 100, 10)\n",
    "y = line(slope, x, b=intercept, errors=errors)\n",
    "plt.figure(figsize=(10, 8))\n",
    "plt.errorbar(x, y, yerr=[errors(xx) for xx in x], linestyle=\"None\", fmt='.')\n",
    "plt.title(\"Y = %s * x + %s with uncertainties\"%(slope, intercept))\n",
    "plt.xlabel(\"exogenous\", fontsize=12)\n",
    "plt.ylabel(\"endogenous\", fontsize=12)"
   ]
  },
  {
   "cell_type": "markdown",
   "metadata": {
    "run_control": {
     "frozen": false,
     "read_only": false
    }
   },
   "source": [
    "# 6. repeat step 3"
   ]
  },
  {
   "cell_type": "code",
   "execution_count": 11,
   "metadata": {},
   "outputs": [
    {
     "data": {
      "text/html": [
       "<table class=\"simpletable\">\n",
       "<caption>OLS Regression Results</caption>\n",
       "<tr>\n",
       "  <th>Dep. Variable:</th>            <td>y</td>        <th>  R-squared:         </th> <td>   0.920</td>\n",
       "</tr>\n",
       "<tr>\n",
       "  <th>Model:</th>                   <td>OLS</td>       <th>  Adj. R-squared:    </th> <td>   0.911</td>\n",
       "</tr>\n",
       "<tr>\n",
       "  <th>Method:</th>             <td>Least Squares</td>  <th>  F-statistic:       </th> <td>   103.0</td>\n",
       "</tr>\n",
       "<tr>\n",
       "  <th>Date:</th>             <td>Sat, 10 Nov 2018</td> <th>  Prob (F-statistic):</th> <td>3.16e-06</td>\n",
       "</tr>\n",
       "<tr>\n",
       "  <th>Time:</th>                 <td>16:08:40</td>     <th>  Log-Likelihood:    </th> <td> -51.260</td>\n",
       "</tr>\n",
       "<tr>\n",
       "  <th>No. Observations:</th>      <td>    10</td>      <th>  AIC:               </th> <td>   104.5</td>\n",
       "</tr>\n",
       "<tr>\n",
       "  <th>Df Residuals:</th>          <td>     9</td>      <th>  BIC:               </th> <td>   104.8</td>\n",
       "</tr>\n",
       "<tr>\n",
       "  <th>Df Model:</th>              <td>     1</td>      <th>                     </th>     <td> </td>   \n",
       "</tr>\n",
       "<tr>\n",
       "  <th>Covariance Type:</th>      <td>nonrobust</td>    <th>                     </th>     <td> </td>   \n",
       "</tr>\n",
       "</table>\n",
       "<table class=\"simpletable\">\n",
       "<tr>\n",
       "   <td></td>     <th>coef</th>     <th>std err</th>      <th>t</th>      <th>P>|t|</th> <th>[95.0% Conf. Int.]</th> \n",
       "</tr>\n",
       "<tr>\n",
       "  <th>x1</th> <td>    2.2213</td> <td>    0.219</td> <td>   10.151</td> <td> 0.000</td> <td>    1.726     2.716</td>\n",
       "</tr>\n",
       "</table>\n",
       "<table class=\"simpletable\">\n",
       "<tr>\n",
       "  <th>Omnibus:</th>       <td> 0.390</td> <th>  Durbin-Watson:     </th> <td>   0.120</td>\n",
       "</tr>\n",
       "<tr>\n",
       "  <th>Prob(Omnibus):</th> <td> 0.823</td> <th>  Jarque-Bera (JB):  </th> <td>   0.457</td>\n",
       "</tr>\n",
       "<tr>\n",
       "  <th>Skew:</th>          <td>-0.000</td> <th>  Prob(JB):          </th> <td>   0.796</td>\n",
       "</tr>\n",
       "<tr>\n",
       "  <th>Kurtosis:</th>      <td> 1.953</td> <th>  Cond. No.          </th> <td>    1.00</td>\n",
       "</tr>\n",
       "</table>"
      ],
      "text/plain": [
       "<class 'statsmodels.iolib.summary.Summary'>\n",
       "\"\"\"\n",
       "                            OLS Regression Results                            \n",
       "==============================================================================\n",
       "Dep. Variable:                      y   R-squared:                       0.920\n",
       "Model:                            OLS   Adj. R-squared:                  0.911\n",
       "Method:                 Least Squares   F-statistic:                     103.0\n",
       "Date:                Sat, 10 Nov 2018   Prob (F-statistic):           3.16e-06\n",
       "Time:                        16:08:40   Log-Likelihood:                -51.260\n",
       "No. Observations:                  10   AIC:                             104.5\n",
       "Df Residuals:                       9   BIC:                             104.8\n",
       "Df Model:                           1                                         \n",
       "Covariance Type:            nonrobust                                         \n",
       "==============================================================================\n",
       "                 coef    std err          t      P>|t|      [95.0% Conf. Int.]\n",
       "------------------------------------------------------------------------------\n",
       "x1             2.2213      0.219     10.151      0.000         1.726     2.716\n",
       "==============================================================================\n",
       "Omnibus:                        0.390   Durbin-Watson:                   0.120\n",
       "Prob(Omnibus):                  0.823   Jarque-Bera (JB):                0.457\n",
       "Skew:                          -0.000   Prob(JB):                        0.796\n",
       "Kurtosis:                       1.953   Cond. No.                         1.00\n",
       "==============================================================================\n",
       "\n",
       "Warnings:\n",
       "[1] Standard Errors assume that the covariance matrix of the errors is correctly specified.\n",
       "\"\"\""
      ]
     },
     "execution_count": 11,
     "metadata": {},
     "output_type": "execute_result"
    }
   ],
   "source": [
    "#THE WRONG WAY\n",
    "smfit_wrong = smf.OLS(y, x).fit()\n",
    "smfit_wrong.summary()"
   ]
  },
  {
   "cell_type": "code",
   "execution_count": 12,
   "metadata": {},
   "outputs": [
    {
     "data": {
      "text/html": [
       "<table class=\"simpletable\">\n",
       "<caption>OLS Regression Results</caption>\n",
       "<tr>\n",
       "  <th>Dep. Variable:</th>            <td>y</td>        <th>  R-squared:         </th> <td>   0.971</td>\n",
       "</tr>\n",
       "<tr>\n",
       "  <th>Model:</th>                   <td>OLS</td>       <th>  Adj. R-squared:    </th> <td>   0.967</td>\n",
       "</tr>\n",
       "<tr>\n",
       "  <th>Method:</th>             <td>Least Squares</td>  <th>  F-statistic:       </th> <td>   265.1</td>\n",
       "</tr>\n",
       "<tr>\n",
       "  <th>Date:</th>             <td>Sat, 10 Nov 2018</td> <th>  Prob (F-statistic):</th> <td>2.04e-07</td>\n",
       "</tr>\n",
       "<tr>\n",
       "  <th>Time:</th>                 <td>16:08:43</td>     <th>  Log-Likelihood:    </th> <td> -29.991</td>\n",
       "</tr>\n",
       "<tr>\n",
       "  <th>No. Observations:</th>      <td>    10</td>      <th>  AIC:               </th> <td>   63.98</td>\n",
       "</tr>\n",
       "<tr>\n",
       "  <th>Df Residuals:</th>          <td>     8</td>      <th>  BIC:               </th> <td>   64.59</td>\n",
       "</tr>\n",
       "<tr>\n",
       "  <th>Df Model:</th>              <td>     1</td>      <th>                     </th>     <td> </td>   \n",
       "</tr>\n",
       "<tr>\n",
       "  <th>Covariance Type:</th>      <td>nonrobust</td>    <th>                     </th>     <td> </td>   \n",
       "</tr>\n",
       "</table>\n",
       "<table class=\"simpletable\">\n",
       "<tr>\n",
       "    <td></td>       <th>coef</th>     <th>std err</th>      <th>t</th>      <th>P>|t|</th> <th>[95.0% Conf. Int.]</th> \n",
       "</tr>\n",
       "<tr>\n",
       "  <th>const</th> <td>   87.3636</td> <td>    3.709</td> <td>   23.557</td> <td> 0.000</td> <td>   78.812    95.916</td>\n",
       "</tr>\n",
       "<tr>\n",
       "  <th>x1</th>    <td>    0.9732</td> <td>    0.060</td> <td>   16.283</td> <td> 0.000</td> <td>    0.835     1.111</td>\n",
       "</tr>\n",
       "</table>\n",
       "<table class=\"simpletable\">\n",
       "<tr>\n",
       "  <th>Omnibus:</th>       <td> 0.792</td> <th>  Durbin-Watson:     </th> <td>   1.811</td>\n",
       "</tr>\n",
       "<tr>\n",
       "  <th>Prob(Omnibus):</th> <td> 0.673</td> <th>  Jarque-Bera (JB):  </th> <td>   0.496</td>\n",
       "</tr>\n",
       "<tr>\n",
       "  <th>Skew:</th>          <td>-0.482</td> <th>  Prob(JB):          </th> <td>   0.780</td>\n",
       "</tr>\n",
       "<tr>\n",
       "  <th>Kurtosis:</th>      <td> 2.489</td> <th>  Cond. No.          </th> <td>    134.</td>\n",
       "</tr>\n",
       "</table>"
      ],
      "text/plain": [
       "<class 'statsmodels.iolib.summary.Summary'>\n",
       "\"\"\"\n",
       "                            OLS Regression Results                            \n",
       "==============================================================================\n",
       "Dep. Variable:                      y   R-squared:                       0.971\n",
       "Model:                            OLS   Adj. R-squared:                  0.967\n",
       "Method:                 Least Squares   F-statistic:                     265.1\n",
       "Date:                Sat, 10 Nov 2018   Prob (F-statistic):           2.04e-07\n",
       "Time:                        16:08:43   Log-Likelihood:                -29.991\n",
       "No. Observations:                  10   AIC:                             63.98\n",
       "Df Residuals:                       8   BIC:                             64.59\n",
       "Df Model:                           1                                         \n",
       "Covariance Type:            nonrobust                                         \n",
       "==============================================================================\n",
       "                 coef    std err          t      P>|t|      [95.0% Conf. Int.]\n",
       "------------------------------------------------------------------------------\n",
       "const         87.3636      3.709     23.557      0.000        78.812    95.916\n",
       "x1             0.9732      0.060     16.283      0.000         0.835     1.111\n",
       "==============================================================================\n",
       "Omnibus:                        0.792   Durbin-Watson:                   1.811\n",
       "Prob(Omnibus):                  0.673   Jarque-Bera (JB):                0.496\n",
       "Skew:                          -0.482   Prob(JB):                        0.780\n",
       "Kurtosis:                       2.489   Cond. No.                         134.\n",
       "==============================================================================\n",
       "\n",
       "Warnings:\n",
       "[1] Standard Errors assume that the covariance matrix of the errors is correctly specified.\n",
       "\"\"\""
      ]
     },
     "execution_count": 12,
     "metadata": {},
     "output_type": "execute_result"
    }
   ],
   "source": [
    "#THE RIGHT WAY\n",
    "smfit_right = smf.OLS(y, sm.add_constant(x)).fit()\n",
    "smfit_right.summary()"
   ]
  },
  {
   "cell_type": "markdown",
   "metadata": {},
   "source": [
    "# Difference: The R-suqared raised from the wrong way to the right way. The right way fit an appropriate intercept to help fit the line."
   ]
  },
  {
   "cell_type": "markdown",
   "metadata": {
    "run_control": {
     "frozen": false,
     "read_only": false
    }
   },
   "source": [
    "# 7. now fit the data with WLS weighted least square, a linear fit that takes into account the uncertainties by \"down-weighting\" (considering less important) observations with large uncertainties"
   ]
  },
  {
   "cell_type": "markdown",
   "metadata": {
    "ExecuteTime": {
     "end_time": "2018-11-08T17:02:55.249878Z",
     "start_time": "2018-11-08T17:02:55.203641Z"
    },
    "run_control": {
     "frozen": false,
     "read_only": false
    }
   },
   "source": [
    "you should at this point ask: how can I create weights from my uncertainties? The answer, as often is the case, is not unique. But a rule of thumb is that the weights would be the _inverse_ (remember: larger error must mean smaller weight) of the variance, with is the standard deviation square. Look at the error() function I create and design your weights array according to this rule"
   ]
  },
  {
   "cell_type": "code",
   "execution_count": 13,
   "metadata": {
    "ExecuteTime": {
     "end_time": "2018-11-08T17:14:01.661927Z",
     "start_time": "2018-11-08T17:14:01.633175Z"
    },
    "run_control": {
     "frozen": false,
     "read_only": false
    }
   },
   "outputs": [
    {
     "data": {
      "text/html": [
       "<table class=\"simpletable\">\n",
       "<caption>WLS Regression Results</caption>\n",
       "<tr>\n",
       "  <th>Dep. Variable:</th>            <td>y</td>        <th>  R-squared:         </th> <td>   0.977</td>\n",
       "</tr>\n",
       "<tr>\n",
       "  <th>Model:</th>                   <td>WLS</td>       <th>  Adj. R-squared:    </th> <td>   0.974</td>\n",
       "</tr>\n",
       "<tr>\n",
       "  <th>Method:</th>             <td>Least Squares</td>  <th>  F-statistic:       </th> <td>   333.6</td>\n",
       "</tr>\n",
       "<tr>\n",
       "  <th>Date:</th>             <td>Sat, 10 Nov 2018</td> <th>  Prob (F-statistic):</th> <td>8.30e-08</td>\n",
       "</tr>\n",
       "<tr>\n",
       "  <th>Time:</th>                 <td>16:08:49</td>     <th>  Log-Likelihood:    </th> <td> -29.195</td>\n",
       "</tr>\n",
       "<tr>\n",
       "  <th>No. Observations:</th>      <td>    10</td>      <th>  AIC:               </th> <td>   62.39</td>\n",
       "</tr>\n",
       "<tr>\n",
       "  <th>Df Residuals:</th>          <td>     8</td>      <th>  BIC:               </th> <td>   63.00</td>\n",
       "</tr>\n",
       "<tr>\n",
       "  <th>Df Model:</th>              <td>     1</td>      <th>                     </th>     <td> </td>   \n",
       "</tr>\n",
       "<tr>\n",
       "  <th>Covariance Type:</th>      <td>nonrobust</td>    <th>                     </th>     <td> </td>   \n",
       "</tr>\n",
       "</table>\n",
       "<table class=\"simpletable\">\n",
       "<tr>\n",
       "    <td></td>       <th>coef</th>     <th>std err</th>      <th>t</th>      <th>P>|t|</th> <th>[95.0% Conf. Int.]</th> \n",
       "</tr>\n",
       "<tr>\n",
       "  <th>const</th> <td>   87.7260</td> <td>    2.822</td> <td>   31.082</td> <td> 0.000</td> <td>   81.217    94.235</td>\n",
       "</tr>\n",
       "<tr>\n",
       "  <th>x1</th>    <td>    0.9671</td> <td>    0.053</td> <td>   18.266</td> <td> 0.000</td> <td>    0.845     1.089</td>\n",
       "</tr>\n",
       "</table>\n",
       "<table class=\"simpletable\">\n",
       "<tr>\n",
       "  <th>Omnibus:</th>       <td> 1.265</td> <th>  Durbin-Watson:     </th> <td>   1.763</td>\n",
       "</tr>\n",
       "<tr>\n",
       "  <th>Prob(Omnibus):</th> <td> 0.531</td> <th>  Jarque-Bera (JB):  </th> <td>   0.596</td>\n",
       "</tr>\n",
       "<tr>\n",
       "  <th>Skew:</th>          <td>-0.574</td> <th>  Prob(JB):          </th> <td>   0.742</td>\n",
       "</tr>\n",
       "<tr>\n",
       "  <th>Kurtosis:</th>      <td> 2.668</td> <th>  Cond. No.          </th> <td>    98.1</td>\n",
       "</tr>\n",
       "</table>"
      ],
      "text/plain": [
       "<class 'statsmodels.iolib.summary.Summary'>\n",
       "\"\"\"\n",
       "                            WLS Regression Results                            \n",
       "==============================================================================\n",
       "Dep. Variable:                      y   R-squared:                       0.977\n",
       "Model:                            WLS   Adj. R-squared:                  0.974\n",
       "Method:                 Least Squares   F-statistic:                     333.6\n",
       "Date:                Sat, 10 Nov 2018   Prob (F-statistic):           8.30e-08\n",
       "Time:                        16:08:49   Log-Likelihood:                -29.195\n",
       "No. Observations:                  10   AIC:                             62.39\n",
       "Df Residuals:                       8   BIC:                             63.00\n",
       "Df Model:                           1                                         \n",
       "Covariance Type:            nonrobust                                         \n",
       "==============================================================================\n",
       "                 coef    std err          t      P>|t|      [95.0% Conf. Int.]\n",
       "------------------------------------------------------------------------------\n",
       "const         87.7260      2.822     31.082      0.000        81.217    94.235\n",
       "x1             0.9671      0.053     18.266      0.000         0.845     1.089\n",
       "==============================================================================\n",
       "Omnibus:                        1.265   Durbin-Watson:                   1.763\n",
       "Prob(Omnibus):                  0.531   Jarque-Bera (JB):                0.596\n",
       "Skew:                          -0.574   Prob(JB):                        0.742\n",
       "Kurtosis:                       2.668   Cond. No.                         98.1\n",
       "==============================================================================\n",
       "\n",
       "Warnings:\n",
       "[1] Standard Errors assume that the covariance matrix of the errors is correctly specified.\n",
       "\"\"\""
      ]
     },
     "execution_count": 13,
     "metadata": {},
     "output_type": "execute_result"
    }
   ],
   "source": [
    "smfit_right = smf.WLS(y, sm.add_constant(x), weights=[1/sqrt(xx) for xx in x]).fit()\n",
    "smfit_right.summary()"
   ]
  },
  {
   "cell_type": "markdown",
   "metadata": {},
   "source": [
    "# The WLS fit a little bit better than OLS"
   ]
  },
  {
   "cell_type": "markdown",
   "metadata": {},
   "source": [
    "# Note: you can also use other statsmodels functions, for example statsmodels.formula.api which allows to pass an equation\n",
    "again, make sure that your formula supports an intercept (no deliverable for this portion, it's up to you to explore the use of this function)"
   ]
  },
  {
   "cell_type": "code",
   "execution_count": 14,
   "metadata": {
    "ExecuteTime": {
     "end_time": "2018-11-08T17:43:22.172119Z",
     "start_time": "2018-11-08T17:43:21.914280Z"
    }
   },
   "outputs": [
    {
     "data": {
      "image/png": "[encoded data removed]",
      "text/plain": [
       "<matplotlib.figure.Figure at 0x7f2fded97f50>"
      ]
     },
     "metadata": {},
     "output_type": "display_data"
    }
   ],
   "source": [
    "# statsmodels.formula.api accepts dictionaris, pandas dataframes, and python rec arrays as input: \n",
    "# all data types that host data paired with labels\n",
    "smfmodel = smf.ols('y ~ x + const', data={'x':x, 'y':y, 'const':np.ones(len(x))}).fit()\n",
    "pl.errorbar(x, y, yerr=errors(x), fmt='.')\n",
    "pl.plot(x, smfit_right.fittedvalues, '-', label=\"sm.OLS\")\n",
    "pl.plot(x, smfmodel.fittedvalues, '-', label=\"smf.ols\")\n",
    "pl.xlabel(\"exogenous\")\n",
    "pl.ylabel(\"endogenous\")\n",
    "pl.legend();"
   ]
  },
  {
   "cell_type": "code",
   "execution_count": null,
   "metadata": {},
   "outputs": [],
   "source": []
  }
 ],
 "metadata": {
  "kernelspec": {
   "display_name": "PUI2016_Python2",
   "language": "python",
   "name": "pui2016_python2"
  },
  "language_info": {
   "codemirror_mode": {
    "name": "ipython",
    "version": 2
   },
   "file_extension": ".py",
   "mimetype": "text/x-python",
   "name": "python",
   "nbconvert_exporter": "python",
   "pygments_lexer": "ipython2",
   "version": "2.7.12"
  },
  "toc": {
   "colors": {
    "hover_highlight": "#DAA520",
    "running_highlight": "#FF0000",
    "selected_highlight": "#FFD700"
   },
   "moveMenuLeft": true,
   "nav_menu": {
    "height": "12px",
    "width": "252px"
   },
   "navigate_menu": true,
   "number_sections": true,
   "sideBar": true,
   "threshold": 4,
   "toc_cell": false,
   "toc_section_display": "block",
   "toc_window_display": false
  }
 },
 "nbformat": 4,
 "nbformat_minor": 2
}
